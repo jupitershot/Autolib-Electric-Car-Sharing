{
  "nbformat": 4,
  "nbformat_minor": 0,
  "metadata": {
    "colab": {
      "name": "Moringa_Data_Science_Prep_W4_Independent_Project_2019_11_Kennedy_Njoroge_Python_Notebook.ipynb",
      "provenance": [],
      "collapsed_sections": [],
      "toc_visible": true,
      "include_colab_link": true
    },
    "kernelspec": {
      "name": "python3",
      "display_name": "Python 3"
    }
  },
  "cells": [
    {
      "cell_type": "markdown",
      "metadata": {
        "id": "view-in-github",
        "colab_type": "text"
      },
      "source": [
        "<a href=\"https://colab.research.google.com/github/jupitershot/Autolib-Electric-Car-Sharing/blob/master/Moringa_Data_Science_Prep_W4_Independent_Project_2019_11_Kennedy_Njoroge_Python_Notebook.ipynb\" target=\"_parent\"><img src=\"https://colab.research.google.com/assets/colab-badge.svg\" alt=\"Open In Colab\"/></a>"
      ]
    },
    {
      "cell_type": "markdown",
      "metadata": {
        "id": "j7OAbKkEPPGJ",
        "colab_type": "text"
      },
      "source": [
        "#Autolib Car Sharing Review and Analysis"
      ]
    },
    {
      "cell_type": "markdown",
      "metadata": {
        "id": "EezsjX1UOJzC",
        "colab_type": "text"
      },
      "source": [
        "##Requirement\n",
        "Analyze the Utilib car sharing data to solve the provided research questions\n",
        "\n",
        "\n",
        "###Data\n",
        "\n",
        "Datassets below provided\n",
        "\n",
        "*   Autolib Dataset [http://bit.ly/Autolib_dataset]\n"
      ]
    },
    {
      "cell_type": "markdown",
      "metadata": {
        "id": "TPSla2MGPGAt",
        "colab_type": "text"
      },
      "source": [
        "##Importing Essential Libraries"
      ]
    },
    {
      "cell_type": "code",
      "metadata": {
        "id": "REt6Z3o-Lw4D",
        "colab_type": "code",
        "colab": {}
      },
      "source": [
        "import pandas as pd #Data manipulation and analysis\n",
        "import numpy as np #Numerical Processing on arrays and matrices\n",
        "import matplotlib.pyplot as plt #Generating visualizations\n",
        "import seaborn as sns #Visualizations based on matplot lib"
      ],
      "execution_count": 0,
      "outputs": []
    },
    {
      "cell_type": "markdown",
      "metadata": {
        "id": "iiLDfbyQPMX0",
        "colab_type": "text"
      },
      "source": [
        "##Data Loading"
      ]
    },
    {
      "cell_type": "code",
      "metadata": {
        "id": "10_WzJjmNcqh",
        "colab_type": "code",
        "colab": {}
      },
      "source": [
        "#Import Autolib Dataset. Downloaded the content from URL above then uploaded onto the notebook.\n",
        "url ='/content/Autolib_dataset.csv'\n",
        "df_autolib = pd.read_csv(url)"
      ],
      "execution_count": 0,
      "outputs": []
    },
    {
      "cell_type": "code",
      "metadata": {
        "id": "il4cc04NzxoH",
        "colab_type": "code",
        "outputId": "66476a13-499e-4b66-fab8-28b1c93eb80f",
        "colab": {
          "base_uri": "https://localhost:8080/",
          "height": 34
        }
      },
      "source": [
        "#Check number of rows and columns\n",
        "df_autolib.shape"
      ],
      "execution_count": 16,
      "outputs": [
        {
          "output_type": "execute_result",
          "data": {
            "text/plain": [
              "(5000, 25)"
            ]
          },
          "metadata": {
            "tags": []
          },
          "execution_count": 16
        }
      ]
    },
    {
      "cell_type": "code",
      "metadata": {
        "id": "4ADMJm3A7_KZ",
        "colab_type": "code",
        "outputId": "dd15f8a8-9773-4c3b-f2f3-0f697a32a0dc",
        "colab": {
          "base_uri": "https://localhost:8080/",
          "height": 779
        }
      },
      "source": [
        "#Display Sample records to validate records successfully imported \n",
        "pd.set_option('display.max_rows', 500)\n",
        "df_autolib"
      ],
      "execution_count": 17,
      "outputs": [
        {
          "output_type": "execute_result",
          "data": {
            "text/html": [
              "<div>\n",
              "<style scoped>\n",
              "    .dataframe tbody tr th:only-of-type {\n",
              "        vertical-align: middle;\n",
              "    }\n",
              "\n",
              "    .dataframe tbody tr th {\n",
              "        vertical-align: top;\n",
              "    }\n",
              "\n",
              "    .dataframe thead th {\n",
              "        text-align: right;\n",
              "    }\n",
              "</style>\n",
              "<table border=\"1\" class=\"dataframe\">\n",
              "  <thead>\n",
              "    <tr style=\"text-align: right;\">\n",
              "      <th></th>\n",
              "      <th>Address</th>\n",
              "      <th>Cars</th>\n",
              "      <th>Bluecar counter</th>\n",
              "      <th>Utilib counter</th>\n",
              "      <th>Utilib 1.4 counter</th>\n",
              "      <th>Charge Slots</th>\n",
              "      <th>Charging Status</th>\n",
              "      <th>City</th>\n",
              "      <th>Displayed comment</th>\n",
              "      <th>ID</th>\n",
              "      <th>Kind</th>\n",
              "      <th>Geo point</th>\n",
              "      <th>Postal code</th>\n",
              "      <th>Public name</th>\n",
              "      <th>Rental status</th>\n",
              "      <th>Scheduled at</th>\n",
              "      <th>Slots</th>\n",
              "      <th>Station type</th>\n",
              "      <th>Status</th>\n",
              "      <th>Subscription status</th>\n",
              "      <th>year</th>\n",
              "      <th>month</th>\n",
              "      <th>day</th>\n",
              "      <th>hour</th>\n",
              "      <th>minute</th>\n",
              "    </tr>\n",
              "  </thead>\n",
              "  <tbody>\n",
              "    <tr>\n",
              "      <th>0</th>\n",
              "      <td>2 Avenue de Suffren</td>\n",
              "      <td>0</td>\n",
              "      <td>0</td>\n",
              "      <td>0</td>\n",
              "      <td>0</td>\n",
              "      <td>0</td>\n",
              "      <td>nonexistent</td>\n",
              "      <td>Paris</td>\n",
              "      <td>NaN</td>\n",
              "      <td>paris-suffren-2</td>\n",
              "      <td>STATION</td>\n",
              "      <td>48.857, 2.2917</td>\n",
              "      <td>75015</td>\n",
              "      <td>Paris/Suffren/2</td>\n",
              "      <td>operational</td>\n",
              "      <td>NaN</td>\n",
              "      <td>2</td>\n",
              "      <td>station</td>\n",
              "      <td>ok</td>\n",
              "      <td>nonexistent</td>\n",
              "      <td>2018</td>\n",
              "      <td>4</td>\n",
              "      <td>8</td>\n",
              "      <td>11</td>\n",
              "      <td>43</td>\n",
              "    </tr>\n",
              "    <tr>\n",
              "      <th>1</th>\n",
              "      <td>145 Rue Raymond Losserand</td>\n",
              "      <td>6</td>\n",
              "      <td>6</td>\n",
              "      <td>0</td>\n",
              "      <td>0</td>\n",
              "      <td>0</td>\n",
              "      <td>operational</td>\n",
              "      <td>Paris</td>\n",
              "      <td>NaN</td>\n",
              "      <td>paris-raymondlosserand-145</td>\n",
              "      <td>STATION</td>\n",
              "      <td>48.83126, 2.313088</td>\n",
              "      <td>75014</td>\n",
              "      <td>Paris/Raymond Losserand/145</td>\n",
              "      <td>operational</td>\n",
              "      <td>NaN</td>\n",
              "      <td>0</td>\n",
              "      <td>station</td>\n",
              "      <td>ok</td>\n",
              "      <td>nonexistent</td>\n",
              "      <td>2018</td>\n",
              "      <td>4</td>\n",
              "      <td>6</td>\n",
              "      <td>7</td>\n",
              "      <td>24</td>\n",
              "    </tr>\n",
              "    <tr>\n",
              "      <th>2</th>\n",
              "      <td>2 Avenue John Fitzgerald Kennedy</td>\n",
              "      <td>3</td>\n",
              "      <td>3</td>\n",
              "      <td>0</td>\n",
              "      <td>2</td>\n",
              "      <td>0</td>\n",
              "      <td>operational</td>\n",
              "      <td>Le Bourget</td>\n",
              "      <td>NaN</td>\n",
              "      <td>lebourget-johnfitzgeraldkennedy-2</td>\n",
              "      <td>STATION</td>\n",
              "      <td>48.938103, 2.4286035</td>\n",
              "      <td>93350</td>\n",
              "      <td>Le Bourget/John Fitzgerald Kennedy/2</td>\n",
              "      <td>operational</td>\n",
              "      <td>NaN</td>\n",
              "      <td>1</td>\n",
              "      <td>station</td>\n",
              "      <td>ok</td>\n",
              "      <td>nonexistent</td>\n",
              "      <td>2018</td>\n",
              "      <td>4</td>\n",
              "      <td>3</td>\n",
              "      <td>20</td>\n",
              "      <td>14</td>\n",
              "    </tr>\n",
              "    <tr>\n",
              "      <th>3</th>\n",
              "      <td>51 Rue EugÃ¨ne OudinÃ©</td>\n",
              "      <td>3</td>\n",
              "      <td>3</td>\n",
              "      <td>1</td>\n",
              "      <td>0</td>\n",
              "      <td>1</td>\n",
              "      <td>operational</td>\n",
              "      <td>Paris</td>\n",
              "      <td>NaN</td>\n",
              "      <td>paris-eugeneoudine-51</td>\n",
              "      <td>STATION</td>\n",
              "      <td>48.8250327, 2.3725162</td>\n",
              "      <td>75013</td>\n",
              "      <td>Paris/EugÃ¨ne OudinÃ©/51</td>\n",
              "      <td>operational</td>\n",
              "      <td>NaN</td>\n",
              "      <td>2</td>\n",
              "      <td>station</td>\n",
              "      <td>ok</td>\n",
              "      <td>nonexistent</td>\n",
              "      <td>2018</td>\n",
              "      <td>4</td>\n",
              "      <td>4</td>\n",
              "      <td>4</td>\n",
              "      <td>37</td>\n",
              "    </tr>\n",
              "    <tr>\n",
              "      <th>4</th>\n",
              "      <td>6 avenue de la Porte de Champerret</td>\n",
              "      <td>3</td>\n",
              "      <td>3</td>\n",
              "      <td>0</td>\n",
              "      <td>0</td>\n",
              "      <td>0</td>\n",
              "      <td>nonexistent</td>\n",
              "      <td>Paris</td>\n",
              "      <td>NaN</td>\n",
              "      <td>paris-portedechamperret-6</td>\n",
              "      <td>PARKING</td>\n",
              "      <td>48.8862632, 2.2874511</td>\n",
              "      <td>75017</td>\n",
              "      <td>Paris/Porte de Champerret/6</td>\n",
              "      <td>operational</td>\n",
              "      <td>NaN</td>\n",
              "      <td>3</td>\n",
              "      <td>station</td>\n",
              "      <td>ok</td>\n",
              "      <td>nonexistent</td>\n",
              "      <td>2018</td>\n",
              "      <td>4</td>\n",
              "      <td>8</td>\n",
              "      <td>17</td>\n",
              "      <td>23</td>\n",
              "    </tr>\n",
              "    <tr>\n",
              "      <th>...</th>\n",
              "      <td>...</td>\n",
              "      <td>...</td>\n",
              "      <td>...</td>\n",
              "      <td>...</td>\n",
              "      <td>...</td>\n",
              "      <td>...</td>\n",
              "      <td>...</td>\n",
              "      <td>...</td>\n",
              "      <td>...</td>\n",
              "      <td>...</td>\n",
              "      <td>...</td>\n",
              "      <td>...</td>\n",
              "      <td>...</td>\n",
              "      <td>...</td>\n",
              "      <td>...</td>\n",
              "      <td>...</td>\n",
              "      <td>...</td>\n",
              "      <td>...</td>\n",
              "      <td>...</td>\n",
              "      <td>...</td>\n",
              "      <td>...</td>\n",
              "      <td>...</td>\n",
              "      <td>...</td>\n",
              "      <td>...</td>\n",
              "      <td>...</td>\n",
              "    </tr>\n",
              "    <tr>\n",
              "      <th>4995</th>\n",
              "      <td>8 avenue MÃ©nelotte</td>\n",
              "      <td>2</td>\n",
              "      <td>2</td>\n",
              "      <td>0</td>\n",
              "      <td>0</td>\n",
              "      <td>0</td>\n",
              "      <td>nonexistent</td>\n",
              "      <td>Colombes</td>\n",
              "      <td>NaN</td>\n",
              "      <td>colombes-menelotte-8</td>\n",
              "      <td>STATION</td>\n",
              "      <td>48.9246525, 2.259313</td>\n",
              "      <td>92700</td>\n",
              "      <td>Colombes/MÃ©nelotte/8</td>\n",
              "      <td>operational</td>\n",
              "      <td>NaN</td>\n",
              "      <td>3</td>\n",
              "      <td>station</td>\n",
              "      <td>ok</td>\n",
              "      <td>nonexistent</td>\n",
              "      <td>2018</td>\n",
              "      <td>4</td>\n",
              "      <td>6</td>\n",
              "      <td>11</td>\n",
              "      <td>26</td>\n",
              "    </tr>\n",
              "    <tr>\n",
              "      <th>4996</th>\n",
              "      <td>37 rue de Dantzig</td>\n",
              "      <td>4</td>\n",
              "      <td>4</td>\n",
              "      <td>0</td>\n",
              "      <td>0</td>\n",
              "      <td>1</td>\n",
              "      <td>operational</td>\n",
              "      <td>Paris</td>\n",
              "      <td>NaN</td>\n",
              "      <td>paris-dantzig-37</td>\n",
              "      <td>STATION</td>\n",
              "      <td>48.8335103, 2.2987201</td>\n",
              "      <td>75015</td>\n",
              "      <td>Paris/Dantzig/37</td>\n",
              "      <td>operational</td>\n",
              "      <td>NaN</td>\n",
              "      <td>2</td>\n",
              "      <td>station</td>\n",
              "      <td>ok</td>\n",
              "      <td>nonexistent</td>\n",
              "      <td>2018</td>\n",
              "      <td>4</td>\n",
              "      <td>4</td>\n",
              "      <td>16</td>\n",
              "      <td>56</td>\n",
              "    </tr>\n",
              "    <tr>\n",
              "      <th>4997</th>\n",
              "      <td>142 rue du Bac</td>\n",
              "      <td>1</td>\n",
              "      <td>1</td>\n",
              "      <td>0</td>\n",
              "      <td>0</td>\n",
              "      <td>1</td>\n",
              "      <td>operational</td>\n",
              "      <td>Paris</td>\n",
              "      <td>NaN</td>\n",
              "      <td>paris-bac-142</td>\n",
              "      <td>STATION</td>\n",
              "      <td>48.8508194, 2.3237968</td>\n",
              "      <td>75007</td>\n",
              "      <td>Paris/Bac/142</td>\n",
              "      <td>operational</td>\n",
              "      <td>NaN</td>\n",
              "      <td>4</td>\n",
              "      <td>station</td>\n",
              "      <td>ok</td>\n",
              "      <td>nonexistent</td>\n",
              "      <td>2018</td>\n",
              "      <td>4</td>\n",
              "      <td>1</td>\n",
              "      <td>7</td>\n",
              "      <td>1</td>\n",
              "    </tr>\n",
              "    <tr>\n",
              "      <th>4998</th>\n",
              "      <td>2 avenue du Val de Fontenay</td>\n",
              "      <td>2</td>\n",
              "      <td>2</td>\n",
              "      <td>0</td>\n",
              "      <td>0</td>\n",
              "      <td>0</td>\n",
              "      <td>nonexistent</td>\n",
              "      <td>Fontenay-Sous-Bois</td>\n",
              "      <td>NaN</td>\n",
              "      <td>fontenaysousbois-valdefontenay-2</td>\n",
              "      <td>STATION</td>\n",
              "      <td>48.8528247, 2.4869085</td>\n",
              "      <td>94120</td>\n",
              "      <td>Fontenay-Sous-Bois/Val de Fontenay/2</td>\n",
              "      <td>operational</td>\n",
              "      <td>NaN</td>\n",
              "      <td>3</td>\n",
              "      <td>station</td>\n",
              "      <td>ok</td>\n",
              "      <td>nonexistent</td>\n",
              "      <td>2018</td>\n",
              "      <td>4</td>\n",
              "      <td>4</td>\n",
              "      <td>17</td>\n",
              "      <td>27</td>\n",
              "    </tr>\n",
              "    <tr>\n",
              "      <th>4999</th>\n",
              "      <td>5 Rue Henry Brisson</td>\n",
              "      <td>4</td>\n",
              "      <td>4</td>\n",
              "      <td>0</td>\n",
              "      <td>0</td>\n",
              "      <td>0</td>\n",
              "      <td>operational</td>\n",
              "      <td>Paris</td>\n",
              "      <td>NaN</td>\n",
              "      <td>paris-henrybrisson-5</td>\n",
              "      <td>STATION</td>\n",
              "      <td>48.8984293, 2.3347923</td>\n",
              "      <td>75018</td>\n",
              "      <td>Paris/Henry Brisson/5</td>\n",
              "      <td>operational</td>\n",
              "      <td>NaN</td>\n",
              "      <td>0</td>\n",
              "      <td>station</td>\n",
              "      <td>ok</td>\n",
              "      <td>nonexistent</td>\n",
              "      <td>2018</td>\n",
              "      <td>4</td>\n",
              "      <td>8</td>\n",
              "      <td>10</td>\n",
              "      <td>2</td>\n",
              "    </tr>\n",
              "  </tbody>\n",
              "</table>\n",
              "<p>5000 rows × 25 columns</p>\n",
              "</div>"
            ],
            "text/plain": [
              "                                 Address  Cars  ...  hour  minute\n",
              "0                    2 Avenue de Suffren     0  ...    11      43\n",
              "1              145 Rue Raymond Losserand     6  ...     7      24\n",
              "2       2 Avenue John Fitzgerald Kennedy     3  ...    20      14\n",
              "3                 51 Rue EugÃ¨ne OudinÃ©     3  ...     4      37\n",
              "4     6 avenue de la Porte de Champerret     3  ...    17      23\n",
              "...                                  ...   ...  ...   ...     ...\n",
              "4995                 8 avenue MÃ©nelotte     2  ...    11      26\n",
              "4996                   37 rue de Dantzig     4  ...    16      56\n",
              "4997                      142 rue du Bac     1  ...     7       1\n",
              "4998         2 avenue du Val de Fontenay     2  ...    17      27\n",
              "4999                 5 Rue Henry Brisson     4  ...    10       2\n",
              "\n",
              "[5000 rows x 25 columns]"
            ]
          },
          "metadata": {
            "tags": []
          },
          "execution_count": 17
        }
      ]
    },
    {
      "cell_type": "markdown",
      "metadata": {
        "id": "wlDYEl34aYZ8",
        "colab_type": "text"
      },
      "source": [
        "##Data Understanding"
      ]
    },
    {
      "cell_type": "markdown",
      "metadata": {
        "id": "fL7R9fkwLtkj",
        "colab_type": "text"
      },
      "source": [
        "###Data Structure \n",
        "Exploration of:\n",
        "- Dataset information. To check total counts per column, not null constraints and data types\n",
        "- Dataset description. \n",
        "- Distinct values per column to identify categorical values\n",
        "- Null values per column to identify missing values\n"
      ]
    },
    {
      "cell_type": "code",
      "metadata": {
        "id": "j8IxWybZcRmb",
        "colab_type": "code",
        "outputId": "1c091f11-3036-4323-d9a8-7c3afd31c6a8",
        "colab": {
          "base_uri": "https://localhost:8080/",
          "height": 544
        }
      },
      "source": [
        "#Dataframe Information to check data types, not null constraints\n",
        "print(df_autolib.info())"
      ],
      "execution_count": 18,
      "outputs": [
        {
          "output_type": "stream",
          "text": [
            "<class 'pandas.core.frame.DataFrame'>\n",
            "RangeIndex: 5000 entries, 0 to 4999\n",
            "Data columns (total 25 columns):\n",
            "Address                5000 non-null object\n",
            "Cars                   5000 non-null int64\n",
            "Bluecar counter        5000 non-null int64\n",
            "Utilib counter         5000 non-null int64\n",
            "Utilib 1.4 counter     5000 non-null int64\n",
            "Charge Slots           5000 non-null int64\n",
            "Charging Status        5000 non-null object\n",
            "City                   5000 non-null object\n",
            "Displayed comment      111 non-null object\n",
            "ID                     5000 non-null object\n",
            "Kind                   5000 non-null object\n",
            "Geo point              5000 non-null object\n",
            "Postal code            5000 non-null int64\n",
            "Public name            5000 non-null object\n",
            "Rental status          5000 non-null object\n",
            "Scheduled at           47 non-null object\n",
            "Slots                  5000 non-null int64\n",
            "Station type           5000 non-null object\n",
            "Status                 5000 non-null object\n",
            "Subscription status    5000 non-null object\n",
            "year                   5000 non-null int64\n",
            "month                  5000 non-null int64\n",
            "day                    5000 non-null int64\n",
            "hour                   5000 non-null int64\n",
            "minute                 5000 non-null int64\n",
            "dtypes: int64(12), object(13)\n",
            "memory usage: 976.7+ KB\n",
            "None\n"
          ],
          "name": "stdout"
        }
      ]
    },
    {
      "cell_type": "code",
      "metadata": {
        "id": "FrHkWwzV0Xb8",
        "colab_type": "code",
        "outputId": "9cdbdff7-3236-4c9b-9949-1a7dc1844fa1",
        "colab": {
          "base_uri": "https://localhost:8080/",
          "height": 297
        }
      },
      "source": [
        "#Descriptive statistics\n",
        "df_autolib.describe()"
      ],
      "execution_count": 19,
      "outputs": [
        {
          "output_type": "execute_result",
          "data": {
            "text/html": [
              "<div>\n",
              "<style scoped>\n",
              "    .dataframe tbody tr th:only-of-type {\n",
              "        vertical-align: middle;\n",
              "    }\n",
              "\n",
              "    .dataframe tbody tr th {\n",
              "        vertical-align: top;\n",
              "    }\n",
              "\n",
              "    .dataframe thead th {\n",
              "        text-align: right;\n",
              "    }\n",
              "</style>\n",
              "<table border=\"1\" class=\"dataframe\">\n",
              "  <thead>\n",
              "    <tr style=\"text-align: right;\">\n",
              "      <th></th>\n",
              "      <th>Cars</th>\n",
              "      <th>Bluecar counter</th>\n",
              "      <th>Utilib counter</th>\n",
              "      <th>Utilib 1.4 counter</th>\n",
              "      <th>Charge Slots</th>\n",
              "      <th>Postal code</th>\n",
              "      <th>Slots</th>\n",
              "      <th>year</th>\n",
              "      <th>month</th>\n",
              "      <th>day</th>\n",
              "      <th>hour</th>\n",
              "      <th>minute</th>\n",
              "    </tr>\n",
              "  </thead>\n",
              "  <tbody>\n",
              "    <tr>\n",
              "      <th>count</th>\n",
              "      <td>5000.000000</td>\n",
              "      <td>5000.000000</td>\n",
              "      <td>5000.000000</td>\n",
              "      <td>5000.000000</td>\n",
              "      <td>5000.000000</td>\n",
              "      <td>5000.000000</td>\n",
              "      <td>5000.000000</td>\n",
              "      <td>5000.0</td>\n",
              "      <td>5000.0</td>\n",
              "      <td>5000.000000</td>\n",
              "      <td>5000.000000</td>\n",
              "      <td>5000.000000</td>\n",
              "    </tr>\n",
              "    <tr>\n",
              "      <th>mean</th>\n",
              "      <td>2.333600</td>\n",
              "      <td>2.333600</td>\n",
              "      <td>0.059600</td>\n",
              "      <td>0.123000</td>\n",
              "      <td>0.253400</td>\n",
              "      <td>82634.878400</td>\n",
              "      <td>1.932400</td>\n",
              "      <td>2018.0</td>\n",
              "      <td>4.0</td>\n",
              "      <td>4.941600</td>\n",
              "      <td>11.509200</td>\n",
              "      <td>29.270000</td>\n",
              "    </tr>\n",
              "    <tr>\n",
              "      <th>std</th>\n",
              "      <td>2.035274</td>\n",
              "      <td>2.035274</td>\n",
              "      <td>0.246698</td>\n",
              "      <td>0.356506</td>\n",
              "      <td>0.546304</td>\n",
              "      <td>8835.865721</td>\n",
              "      <td>1.905402</td>\n",
              "      <td>0.0</td>\n",
              "      <td>0.0</td>\n",
              "      <td>2.597063</td>\n",
              "      <td>6.893549</td>\n",
              "      <td>17.231741</td>\n",
              "    </tr>\n",
              "    <tr>\n",
              "      <th>min</th>\n",
              "      <td>0.000000</td>\n",
              "      <td>0.000000</td>\n",
              "      <td>0.000000</td>\n",
              "      <td>0.000000</td>\n",
              "      <td>0.000000</td>\n",
              "      <td>75001.000000</td>\n",
              "      <td>0.000000</td>\n",
              "      <td>2018.0</td>\n",
              "      <td>4.0</td>\n",
              "      <td>1.000000</td>\n",
              "      <td>0.000000</td>\n",
              "      <td>0.000000</td>\n",
              "    </tr>\n",
              "    <tr>\n",
              "      <th>25%</th>\n",
              "      <td>0.000000</td>\n",
              "      <td>0.000000</td>\n",
              "      <td>0.000000</td>\n",
              "      <td>0.000000</td>\n",
              "      <td>0.000000</td>\n",
              "      <td>75012.000000</td>\n",
              "      <td>0.000000</td>\n",
              "      <td>2018.0</td>\n",
              "      <td>4.0</td>\n",
              "      <td>3.000000</td>\n",
              "      <td>6.000000</td>\n",
              "      <td>14.000000</td>\n",
              "    </tr>\n",
              "    <tr>\n",
              "      <th>50%</th>\n",
              "      <td>2.000000</td>\n",
              "      <td>2.000000</td>\n",
              "      <td>0.000000</td>\n",
              "      <td>0.000000</td>\n",
              "      <td>0.000000</td>\n",
              "      <td>75019.000000</td>\n",
              "      <td>1.000000</td>\n",
              "      <td>2018.0</td>\n",
              "      <td>4.0</td>\n",
              "      <td>5.000000</td>\n",
              "      <td>11.000000</td>\n",
              "      <td>29.000000</td>\n",
              "    </tr>\n",
              "    <tr>\n",
              "      <th>75%</th>\n",
              "      <td>4.000000</td>\n",
              "      <td>4.000000</td>\n",
              "      <td>0.000000</td>\n",
              "      <td>0.000000</td>\n",
              "      <td>0.000000</td>\n",
              "      <td>92320.000000</td>\n",
              "      <td>3.000000</td>\n",
              "      <td>2018.0</td>\n",
              "      <td>4.0</td>\n",
              "      <td>7.000000</td>\n",
              "      <td>18.000000</td>\n",
              "      <td>44.000000</td>\n",
              "    </tr>\n",
              "    <tr>\n",
              "      <th>max</th>\n",
              "      <td>7.000000</td>\n",
              "      <td>7.000000</td>\n",
              "      <td>2.000000</td>\n",
              "      <td>3.000000</td>\n",
              "      <td>2.000000</td>\n",
              "      <td>95880.000000</td>\n",
              "      <td>7.000000</td>\n",
              "      <td>2018.0</td>\n",
              "      <td>4.0</td>\n",
              "      <td>9.000000</td>\n",
              "      <td>23.000000</td>\n",
              "      <td>59.000000</td>\n",
              "    </tr>\n",
              "  </tbody>\n",
              "</table>\n",
              "</div>"
            ],
            "text/plain": [
              "              Cars  Bluecar counter  ...         hour       minute\n",
              "count  5000.000000      5000.000000  ...  5000.000000  5000.000000\n",
              "mean      2.333600         2.333600  ...    11.509200    29.270000\n",
              "std       2.035274         2.035274  ...     6.893549    17.231741\n",
              "min       0.000000         0.000000  ...     0.000000     0.000000\n",
              "25%       0.000000         0.000000  ...     6.000000    14.000000\n",
              "50%       2.000000         2.000000  ...    11.000000    29.000000\n",
              "75%       4.000000         4.000000  ...    18.000000    44.000000\n",
              "max       7.000000         7.000000  ...    23.000000    59.000000\n",
              "\n",
              "[8 rows x 12 columns]"
            ]
          },
          "metadata": {
            "tags": []
          },
          "execution_count": 19
        }
      ]
    },
    {
      "cell_type": "code",
      "metadata": {
        "id": "EP34MtTj1DqK",
        "colab_type": "code",
        "outputId": "a0dcb60b-b04e-42e3-8a2d-079f40c8e17d",
        "colab": {
          "base_uri": "https://localhost:8080/",
          "height": 224
        }
      },
      "source": [
        "#Describer Non Integer variables\n",
        "df_autolib_cat = df_autolib.dtypes[df_autolib.dtypes == 'object'].index\n",
        "df_autolib[df_autolib_cat].describe()"
      ],
      "execution_count": 20,
      "outputs": [
        {
          "output_type": "execute_result",
          "data": {
            "text/html": [
              "<div>\n",
              "<style scoped>\n",
              "    .dataframe tbody tr th:only-of-type {\n",
              "        vertical-align: middle;\n",
              "    }\n",
              "\n",
              "    .dataframe tbody tr th {\n",
              "        vertical-align: top;\n",
              "    }\n",
              "\n",
              "    .dataframe thead th {\n",
              "        text-align: right;\n",
              "    }\n",
              "</style>\n",
              "<table border=\"1\" class=\"dataframe\">\n",
              "  <thead>\n",
              "    <tr style=\"text-align: right;\">\n",
              "      <th></th>\n",
              "      <th>Address</th>\n",
              "      <th>Charging Status</th>\n",
              "      <th>City</th>\n",
              "      <th>Displayed comment</th>\n",
              "      <th>ID</th>\n",
              "      <th>Kind</th>\n",
              "      <th>Geo point</th>\n",
              "      <th>Public name</th>\n",
              "      <th>Rental status</th>\n",
              "      <th>Scheduled at</th>\n",
              "      <th>Station type</th>\n",
              "      <th>Status</th>\n",
              "      <th>Subscription status</th>\n",
              "    </tr>\n",
              "  </thead>\n",
              "  <tbody>\n",
              "    <tr>\n",
              "      <th>count</th>\n",
              "      <td>5000</td>\n",
              "      <td>5000</td>\n",
              "      <td>5000</td>\n",
              "      <td>111</td>\n",
              "      <td>5000</td>\n",
              "      <td>5000</td>\n",
              "      <td>5000</td>\n",
              "      <td>5000</td>\n",
              "      <td>5000</td>\n",
              "      <td>47</td>\n",
              "      <td>5000</td>\n",
              "      <td>5000</td>\n",
              "      <td>5000</td>\n",
              "    </tr>\n",
              "    <tr>\n",
              "      <th>unique</th>\n",
              "      <td>1104</td>\n",
              "      <td>3</td>\n",
              "      <td>88</td>\n",
              "      <td>25</td>\n",
              "      <td>1105</td>\n",
              "      <td>4</td>\n",
              "      <td>1105</td>\n",
              "      <td>1105</td>\n",
              "      <td>4</td>\n",
              "      <td>8</td>\n",
              "      <td>3</td>\n",
              "      <td>3</td>\n",
              "      <td>3</td>\n",
              "    </tr>\n",
              "    <tr>\n",
              "      <th>top</th>\n",
              "      <td>8 Avenue de la Porte de Montrouge</td>\n",
              "      <td>nonexistent</td>\n",
              "      <td>Paris</td>\n",
              "      <td>Station en parking (niv -2), accÃ¨s 4 av. Foch</td>\n",
              "      <td>paris-portedemontrouge-8</td>\n",
              "      <td>STATION</td>\n",
              "      <td>48.8230593, 2.322823</td>\n",
              "      <td>Paris/Porte de Montrouge/8</td>\n",
              "      <td>operational</td>\n",
              "      <td>2016-07-27T15:32:21</td>\n",
              "      <td>station</td>\n",
              "      <td>ok</td>\n",
              "      <td>nonexistent</td>\n",
              "    </tr>\n",
              "    <tr>\n",
              "      <th>freq</th>\n",
              "      <td>13</td>\n",
              "      <td>2886</td>\n",
              "      <td>2816</td>\n",
              "      <td>8</td>\n",
              "      <td>13</td>\n",
              "      <td>4388</td>\n",
              "      <td>13</td>\n",
              "      <td>13</td>\n",
              "      <td>4618</td>\n",
              "      <td>10</td>\n",
              "      <td>4615</td>\n",
              "      <td>4623</td>\n",
              "      <td>4593</td>\n",
              "    </tr>\n",
              "  </tbody>\n",
              "</table>\n",
              "</div>"
            ],
            "text/plain": [
              "                                  Address  ... Subscription status\n",
              "count                                5000  ...                5000\n",
              "unique                               1104  ...                   3\n",
              "top     8 Avenue de la Porte de Montrouge  ...         nonexistent\n",
              "freq                                   13  ...                4593\n",
              "\n",
              "[4 rows x 13 columns]"
            ]
          },
          "metadata": {
            "tags": []
          },
          "execution_count": 20
        }
      ]
    },
    {
      "cell_type": "code",
      "metadata": {
        "id": "g-r4CVw40cnj",
        "colab_type": "code",
        "outputId": "fb375ac7-c3d6-4049-e454-8d89b3913525",
        "colab": {
          "base_uri": "https://localhost:8080/",
          "height": 1000
        }
      },
      "source": [
        "#Unique values for each column.\n",
        "for col in list(df_autolib):\n",
        "    print(col)\n",
        "    print(df_autolib[col].unique())\n"
      ],
      "execution_count": 21,
      "outputs": [
        {
          "output_type": "stream",
          "text": [
            "Address\n",
            "['2 Avenue de Suffren' '145 Rue Raymond Losserand'\n",
            " '2 Avenue John Fitzgerald Kennedy' ... '106 rue VercingÃ©torix'\n",
            " '134 boulevard National' '54 Boulevard SÃ©rurier']\n",
            "Cars\n",
            "[0 6 3 1 5 4 2 7]\n",
            "Bluecar counter\n",
            "[0 6 3 1 5 4 2 7]\n",
            "Utilib counter\n",
            "[0 1 2]\n",
            "Utilib 1.4 counter\n",
            "[0 2 1 3]\n",
            "Charge Slots\n",
            "[0 1 2]\n",
            "Charging Status\n",
            "['nonexistent' 'operational' 'broken']\n",
            "City\n",
            "['Paris' 'Le Bourget' 'Nanterre' 'Puteaux' 'Fontenay-aux-Roses'\n",
            " 'Le Chesnay' 'Suresnes' 'Versailles' 'Malakoff' 'Issy-les-Moulineaux'\n",
            " 'Saint-Cloud' 'SÃ¨vres' 'Bezons' 'Nogent-sur-Marne' 'CrÃ©teil'\n",
            " 'Villejuif' 'Rueil-Malmaison' 'Villeneuve-la-Garenne' 'Montreuil'\n",
            " 'Charenton-le-Pont' 'Courbevoie' 'AsniÃ¨res-sur-Seine' 'Garches' 'Drancy'\n",
            " 'La Garenne-Colombes' 'VerriÃ¨res-le-Buisson' 'Le Blanc-Mesnil' 'Vanves'\n",
            " 'Enghien-les-Bains' 'Sceaux' 'Levallois-Perret' 'Boulogne-Billancourt'\n",
            " 'ChÃ¢tenay-Malabry' 'Pantin' 'Meudon' 'Gennevilliers' 'Vincennes'\n",
            " 'Rungis' 'Colombes' 'Fontenay-Sous-Bois' 'Rosny-sous-Bois'\n",
            " 'Bourg-la-Reine' 'Cachan' 'Maisons-Alfort' 'BiÃ¨vres' 'Alfortville'\n",
            " 'Champigny-sur-Marne' 'Aulnay-sous-bois' 'Saint-Denis'\n",
            " 'Le Plessis-Robinson' 'Le PrÃ©-Saint-Gervais' 'Clamart' 'Bois-Colombes'\n",
            " 'Guyancourt' 'Bagnolet' 'Vaucresson' 'Limeil-BrÃ©vannes' 'Saint-Maurice'\n",
            " 'Romainville' 'VÃ©lizy-Villacoublay' 'Arcueil' 'Saint-Ouen'\n",
            " 'Clichy la garenne' 'Meudon-la-ForÃªt' 'Clichy-la-Garenne'\n",
            " \"Ville-d'Avray\" 'Argenteuil' 'Noisy-le-Sec' 'Saint-MandÃ©'\n",
            " 'Neuilly-sur-Seine' 'Clichy-sous-Bois' 'Montfermeil' 'Antony' 'Bagneux'\n",
            " 'Epinay-sur-Seine' 'ChÃ¢tillon' 'Ã\\x89pinay-sur-Seine' 'Yerres' 'Dugny'\n",
            " 'Joinville-le-Pont' 'Neuilly-Plaisance' 'Montrouge' 'Sucy-en-Brie'\n",
            " 'Chaville' 'Saclay' 'Les Lilas' 'Saint-Maur' 'Aubervilliers']\n",
            "Displayed comment\n",
            "[nan 'Station en parking (niv -1), accÃ¨s 37 rue Leblanc'\n",
            " 'Station en parking (niv 0), accÃ¨s 26 villa Croix Nivert'\n",
            " 'Station en parking (niv -2), accÃ¨s 4 av. Foch'\n",
            " \"Borne d'abonnement en sous-sol (niv -1), accÃ¨s 4 rue Lobau\"\n",
            " 'Station en parking (niv -1), accÃ¨s rue Wilson'\n",
            " 'Station en parking (niv -1), accÃ¨s Place Georges Pompidou'\n",
            " 'Station en parking (niv -3), accÃ¨s 32 rue dâ\\x80\\x99Alsace'\n",
            " 'Station en parking (niv -2), accÃ¨s 2 avenue Gabriel'\n",
            " 'Station en parking (niv -1), accÃ¨s av. de Versailles'\n",
            " 'Station en parking (niv -1), accÃ¨s rue Abel Gance'\n",
            " 'Station en parking (niv -1), accÃ¨s 4 av. des Ternes'\n",
            " 'Station en parking (niv -1), Station B (sur la droite)'\n",
            " 'Station en parking'\n",
            " 'Station en parking (niv -2), accÃ¨s 125 bvd du Montparnasse'\n",
            " 'Station en parking (niv -1), Station A (sur la gauche)'\n",
            " 'Station en parking (niv -1), accÃ¨s 8 rue Louise Michel'\n",
            " 'Station en parking (niv -1), accÃ¨s 26 bvd Gouvion Saint-Cyr'\n",
            " 'Station en parking (niv -1), accÃ¨s rue Marjolin'\n",
            " 'Station en parking (niv -1), accÃ¨s 141 rue Lecourbe'\n",
            " 'Station en parking (niv -1), accÃ¨s 37 rue Wilson'\n",
            " 'Station en parking (niv -2), accÃ¨s 155 rue de Rennes'\n",
            " 'Station en parking (niv -1), accÃ¨s av. gÃ©n Sarrail'\n",
            " 'Station en parking (niv -1), accÃ¨s 33 rue Ernest Cognacq'\n",
            " 'Station en parking (niv -1), accÃ¨s 80 rue Wilson'\n",
            " \"Station en parking (niv -1), accÃ¨s 29 quai d'Austerlitz\"]\n",
            "ID\n",
            "['paris-suffren-2' 'paris-raymondlosserand-145'\n",
            " 'lebourget-johnfitzgeraldkennedy-2' ... 'paris-vercingetorix-106'\n",
            " 'nanterre-national-134' 'paris-serurier-54']\n",
            "Kind\n",
            "['STATION' 'PARKING' 'SPACE' 'CENTER']\n",
            "Geo point\n",
            "['48.857, 2.2917' '48.83126, 2.313088' '48.938103, 2.4286035' ...\n",
            " '48.8344374, 2.3137055' '48.88835, 2.184296' '48.88075, 2.397629']\n",
            "Postal code\n",
            "[75015 75014 93350 75013 75017 75011 92000 75009 75005 92800 92260 78150\n",
            " 92150 78000 92240 75007 75010 92130 75006 75018 75004 75020 92210 92310\n",
            " 95870 94130 75016 94000 94800 92500 75012 92390 75003 93100 75019 94220\n",
            " 92400 92600 92380 75001 93700 92250 91370 93150 75002 92170 75008 95880\n",
            " 92330 92300 92100 92290 93500 92190 92230 94300 94150 92700 94120 93110\n",
            " 92340 94230 94700 91570 94140 94500 93600 93200 92350 93310 92140 92220\n",
            " 92270 78280 93170 92420 94450 94410 93230 78140 94110 75116 93400 92360\n",
            " 92410 95100 93130 94160 92200 93390 93370 92160 93800 92320 91330 93440\n",
            " 94340 93360 92110 75112 92120 94370 92370 91400 93260 94100 93300]\n",
            "Public name\n",
            "['Paris/Suffren/2' 'Paris/Raymond Losserand/145'\n",
            " 'Le Bourget/John Fitzgerald Kennedy/2' ... 'Paris/VercingÃ©torix/106'\n",
            " 'Nanterre/National/134' 'Paris/SÃ©rurier/54']\n",
            "Rental status\n",
            "['operational' 'broken' 'future' 'nonexistent']\n",
            "Scheduled at\n",
            "[nan '2016-07-27T15:32:21' '2016-07-05T13:10:09' '2015-09-29T13:58:29'\n",
            " '2016-04-26T14:28:01' '2012-09-17T08:57:28' '2016-01-06T10:35:38'\n",
            " '2018-01-03T10:52:00' '2016-07-27T15:32:22']\n",
            "Slots\n",
            "[2 0 1 3 4 6 5 7]\n",
            "Station type\n",
            "['station' 'full_station' 'subs_center']\n",
            "Status\n",
            "['ok' 'closed' 'scheduled']\n",
            "Subscription status\n",
            "['nonexistent' 'operational' 'broken']\n",
            "year\n",
            "[2018]\n",
            "month\n",
            "[4]\n",
            "day\n",
            "[8 6 3 4 2 1 5 9 7]\n",
            "hour\n",
            "[11  7 20  4 17 18 22 15  9 12 21  8  0 19  6  3 23  2  1 10 16 13 14  5]\n",
            "minute\n",
            "[43 24 14 37 23  2 20 13 58 39 22 54  0 21 31 16 32  6 11 27 40 53 28 29\n",
            "  7  9 51 48 36 17  3 38 25  5 35 52 49 44 56 55 59 10 41 42 50  8 19 57\n",
            " 34 46  4 18 26 47 45 33  1 30 12 15]\n"
          ],
          "name": "stdout"
        }
      ]
    },
    {
      "cell_type": "code",
      "metadata": {
        "id": "UH8VeivS5xCE",
        "colab_type": "code",
        "outputId": "bf076095-6bf9-4360-93fd-31fac3a9625d",
        "colab": {
          "base_uri": "https://localhost:8080/",
          "height": 459
        }
      },
      "source": [
        "#Null values for each column.\n",
        "print(df_autolib.isnull().sum())"
      ],
      "execution_count": 22,
      "outputs": [
        {
          "output_type": "stream",
          "text": [
            "Address                   0\n",
            "Cars                      0\n",
            "Bluecar counter           0\n",
            "Utilib counter            0\n",
            "Utilib 1.4 counter        0\n",
            "Charge Slots              0\n",
            "Charging Status           0\n",
            "City                      0\n",
            "Displayed comment      4889\n",
            "ID                        0\n",
            "Kind                      0\n",
            "Geo point                 0\n",
            "Postal code               0\n",
            "Public name               0\n",
            "Rental status             0\n",
            "Scheduled at           4953\n",
            "Slots                     0\n",
            "Station type              0\n",
            "Status                    0\n",
            "Subscription status       0\n",
            "year                      0\n",
            "month                     0\n",
            "day                       0\n",
            "hour                      0\n",
            "minute                    0\n",
            "dtype: int64\n"
          ],
          "name": "stdout"
        }
      ]
    },
    {
      "cell_type": "markdown",
      "metadata": {
        "id": "XObftLE0LoCt",
        "colab_type": "text"
      },
      "source": [
        "###Correlation"
      ]
    },
    {
      "cell_type": "code",
      "metadata": {
        "id": "nKkmghpoMxtu",
        "colab_type": "code",
        "outputId": "86ba2945-66c0-42a6-d9c6-2f14addb4f6d",
        "colab": {
          "base_uri": "https://localhost:8080/",
          "height": 421
        }
      },
      "source": [
        "#To find the correlation among the columns using pearson method \n",
        "df_autolib.corr(method ='pearson') "
      ],
      "execution_count": 23,
      "outputs": [
        {
          "output_type": "execute_result",
          "data": {
            "text/html": [
              "<div>\n",
              "<style scoped>\n",
              "    .dataframe tbody tr th:only-of-type {\n",
              "        vertical-align: middle;\n",
              "    }\n",
              "\n",
              "    .dataframe tbody tr th {\n",
              "        vertical-align: top;\n",
              "    }\n",
              "\n",
              "    .dataframe thead th {\n",
              "        text-align: right;\n",
              "    }\n",
              "</style>\n",
              "<table border=\"1\" class=\"dataframe\">\n",
              "  <thead>\n",
              "    <tr style=\"text-align: right;\">\n",
              "      <th></th>\n",
              "      <th>Cars</th>\n",
              "      <th>Bluecar counter</th>\n",
              "      <th>Utilib counter</th>\n",
              "      <th>Utilib 1.4 counter</th>\n",
              "      <th>Charge Slots</th>\n",
              "      <th>Postal code</th>\n",
              "      <th>Slots</th>\n",
              "      <th>year</th>\n",
              "      <th>month</th>\n",
              "      <th>day</th>\n",
              "      <th>hour</th>\n",
              "      <th>minute</th>\n",
              "    </tr>\n",
              "  </thead>\n",
              "  <tbody>\n",
              "    <tr>\n",
              "      <th>Cars</th>\n",
              "      <td>1.000000</td>\n",
              "      <td>1.000000</td>\n",
              "      <td>0.044059</td>\n",
              "      <td>0.062537</td>\n",
              "      <td>-0.307950</td>\n",
              "      <td>0.269789</td>\n",
              "      <td>-0.581199</td>\n",
              "      <td>NaN</td>\n",
              "      <td>NaN</td>\n",
              "      <td>-0.022275</td>\n",
              "      <td>-0.089672</td>\n",
              "      <td>-0.003801</td>\n",
              "    </tr>\n",
              "    <tr>\n",
              "      <th>Bluecar counter</th>\n",
              "      <td>1.000000</td>\n",
              "      <td>1.000000</td>\n",
              "      <td>0.044059</td>\n",
              "      <td>0.062537</td>\n",
              "      <td>-0.307950</td>\n",
              "      <td>0.269789</td>\n",
              "      <td>-0.581199</td>\n",
              "      <td>NaN</td>\n",
              "      <td>NaN</td>\n",
              "      <td>-0.022275</td>\n",
              "      <td>-0.089672</td>\n",
              "      <td>-0.003801</td>\n",
              "    </tr>\n",
              "    <tr>\n",
              "      <th>Utilib counter</th>\n",
              "      <td>0.044059</td>\n",
              "      <td>0.044059</td>\n",
              "      <td>1.000000</td>\n",
              "      <td>0.084943</td>\n",
              "      <td>-0.040837</td>\n",
              "      <td>0.033837</td>\n",
              "      <td>-0.103350</td>\n",
              "      <td>NaN</td>\n",
              "      <td>NaN</td>\n",
              "      <td>0.000438</td>\n",
              "      <td>-0.030553</td>\n",
              "      <td>0.032824</td>\n",
              "    </tr>\n",
              "    <tr>\n",
              "      <th>Utilib 1.4 counter</th>\n",
              "      <td>0.062537</td>\n",
              "      <td>0.062537</td>\n",
              "      <td>0.084943</td>\n",
              "      <td>1.000000</td>\n",
              "      <td>-0.083032</td>\n",
              "      <td>0.028646</td>\n",
              "      <td>-0.166215</td>\n",
              "      <td>NaN</td>\n",
              "      <td>NaN</td>\n",
              "      <td>0.002575</td>\n",
              "      <td>-0.022967</td>\n",
              "      <td>0.012144</td>\n",
              "    </tr>\n",
              "    <tr>\n",
              "      <th>Charge Slots</th>\n",
              "      <td>-0.307950</td>\n",
              "      <td>-0.307950</td>\n",
              "      <td>-0.040837</td>\n",
              "      <td>-0.083032</td>\n",
              "      <td>1.000000</td>\n",
              "      <td>-0.372203</td>\n",
              "      <td>0.516690</td>\n",
              "      <td>NaN</td>\n",
              "      <td>NaN</td>\n",
              "      <td>0.004229</td>\n",
              "      <td>-0.006329</td>\n",
              "      <td>0.011133</td>\n",
              "    </tr>\n",
              "    <tr>\n",
              "      <th>Postal code</th>\n",
              "      <td>0.269789</td>\n",
              "      <td>0.269789</td>\n",
              "      <td>0.033837</td>\n",
              "      <td>0.028646</td>\n",
              "      <td>-0.372203</td>\n",
              "      <td>1.000000</td>\n",
              "      <td>-0.119291</td>\n",
              "      <td>NaN</td>\n",
              "      <td>NaN</td>\n",
              "      <td>-0.001765</td>\n",
              "      <td>0.001310</td>\n",
              "      <td>0.010900</td>\n",
              "    </tr>\n",
              "    <tr>\n",
              "      <th>Slots</th>\n",
              "      <td>-0.581199</td>\n",
              "      <td>-0.581199</td>\n",
              "      <td>-0.103350</td>\n",
              "      <td>-0.166215</td>\n",
              "      <td>0.516690</td>\n",
              "      <td>-0.119291</td>\n",
              "      <td>1.000000</td>\n",
              "      <td>NaN</td>\n",
              "      <td>NaN</td>\n",
              "      <td>-0.004517</td>\n",
              "      <td>0.002164</td>\n",
              "      <td>0.012430</td>\n",
              "    </tr>\n",
              "    <tr>\n",
              "      <th>year</th>\n",
              "      <td>NaN</td>\n",
              "      <td>NaN</td>\n",
              "      <td>NaN</td>\n",
              "      <td>NaN</td>\n",
              "      <td>NaN</td>\n",
              "      <td>NaN</td>\n",
              "      <td>NaN</td>\n",
              "      <td>NaN</td>\n",
              "      <td>NaN</td>\n",
              "      <td>NaN</td>\n",
              "      <td>NaN</td>\n",
              "      <td>NaN</td>\n",
              "    </tr>\n",
              "    <tr>\n",
              "      <th>month</th>\n",
              "      <td>NaN</td>\n",
              "      <td>NaN</td>\n",
              "      <td>NaN</td>\n",
              "      <td>NaN</td>\n",
              "      <td>NaN</td>\n",
              "      <td>NaN</td>\n",
              "      <td>NaN</td>\n",
              "      <td>NaN</td>\n",
              "      <td>NaN</td>\n",
              "      <td>NaN</td>\n",
              "      <td>NaN</td>\n",
              "      <td>NaN</td>\n",
              "    </tr>\n",
              "    <tr>\n",
              "      <th>day</th>\n",
              "      <td>-0.022275</td>\n",
              "      <td>-0.022275</td>\n",
              "      <td>0.000438</td>\n",
              "      <td>0.002575</td>\n",
              "      <td>0.004229</td>\n",
              "      <td>-0.001765</td>\n",
              "      <td>-0.004517</td>\n",
              "      <td>NaN</td>\n",
              "      <td>NaN</td>\n",
              "      <td>1.000000</td>\n",
              "      <td>0.017260</td>\n",
              "      <td>0.018156</td>\n",
              "    </tr>\n",
              "    <tr>\n",
              "      <th>hour</th>\n",
              "      <td>-0.089672</td>\n",
              "      <td>-0.089672</td>\n",
              "      <td>-0.030553</td>\n",
              "      <td>-0.022967</td>\n",
              "      <td>-0.006329</td>\n",
              "      <td>0.001310</td>\n",
              "      <td>0.002164</td>\n",
              "      <td>NaN</td>\n",
              "      <td>NaN</td>\n",
              "      <td>0.017260</td>\n",
              "      <td>1.000000</td>\n",
              "      <td>0.003643</td>\n",
              "    </tr>\n",
              "    <tr>\n",
              "      <th>minute</th>\n",
              "      <td>-0.003801</td>\n",
              "      <td>-0.003801</td>\n",
              "      <td>0.032824</td>\n",
              "      <td>0.012144</td>\n",
              "      <td>0.011133</td>\n",
              "      <td>0.010900</td>\n",
              "      <td>0.012430</td>\n",
              "      <td>NaN</td>\n",
              "      <td>NaN</td>\n",
              "      <td>0.018156</td>\n",
              "      <td>0.003643</td>\n",
              "      <td>1.000000</td>\n",
              "    </tr>\n",
              "  </tbody>\n",
              "</table>\n",
              "</div>"
            ],
            "text/plain": [
              "                        Cars  Bluecar counter  ...      hour    minute\n",
              "Cars                1.000000         1.000000  ... -0.089672 -0.003801\n",
              "Bluecar counter     1.000000         1.000000  ... -0.089672 -0.003801\n",
              "Utilib counter      0.044059         0.044059  ... -0.030553  0.032824\n",
              "Utilib 1.4 counter  0.062537         0.062537  ... -0.022967  0.012144\n",
              "Charge Slots       -0.307950        -0.307950  ... -0.006329  0.011133\n",
              "Postal code         0.269789         0.269789  ...  0.001310  0.010900\n",
              "Slots              -0.581199        -0.581199  ...  0.002164  0.012430\n",
              "year                     NaN              NaN  ...       NaN       NaN\n",
              "month                    NaN              NaN  ...       NaN       NaN\n",
              "day                -0.022275        -0.022275  ...  0.017260  0.018156\n",
              "hour               -0.089672        -0.089672  ...  1.000000  0.003643\n",
              "minute             -0.003801        -0.003801  ...  0.003643  1.000000\n",
              "\n",
              "[12 rows x 12 columns]"
            ]
          },
          "metadata": {
            "tags": []
          },
          "execution_count": 23
        }
      ]
    },
    {
      "cell_type": "code",
      "metadata": {
        "id": "FSmA0SV0IISX",
        "colab_type": "code",
        "outputId": "59647ba2-ee00-4ded-d6d1-216f3e96cd51",
        "colab": {
          "base_uri": "https://localhost:8080/",
          "height": 346
        }
      },
      "source": [
        "corr = df_autolib.corr()\n",
        "sns.heatmap(corr,  square=True)\n",
        "plt.show()"
      ],
      "execution_count": 24,
      "outputs": [
        {
          "output_type": "display_data",
          "data": {
            "image/png": "[encoded data removed]",
            "text/plain": [
              "<Figure size 432x288 with 2 Axes>"
            ]
          },
          "metadata": {
            "tags": []
          }
        }
      ]
    },
    {
      "cell_type": "markdown",
      "metadata": {
        "id": "gDtq6vMdOa8_",
        "colab_type": "text"
      },
      "source": [
        "### Distribution"
      ]
    },
    {
      "cell_type": "markdown",
      "metadata": {
        "id": "eeN5smFW-k2g",
        "colab_type": "text"
      },
      "source": [
        "Univariate Distribution"
      ]
    },
    {
      "cell_type": "code",
      "metadata": {
        "id": "dPoY_Z9TCAuv",
        "colab_type": "code",
        "outputId": "076f3c14-a9c3-4dfb-a322-029af7cd8f3b",
        "colab": {
          "base_uri": "https://localhost:8080/",
          "height": 934
        }
      },
      "source": [
        "# Distribution\n",
        "df_autolib.hist( bins=20, figsize=(20,16), color='#0000A0', zorder=3, rwidth=5)\n",
        "plt.show() "
      ],
      "execution_count": 25,
      "outputs": [
        {
          "output_type": "display_data",
          "data": {
            "image/png": "[encoded data removed]",
            "text/plain": [
              "<Figure size 1440x1152 with 12 Axes>"
            ]
          },
          "metadata": {
            "tags": []
          }
        }
      ]
    },
    {
      "cell_type": "code",
      "metadata": {
        "id": "HU5r2IPWFX1j",
        "colab_type": "code",
        "outputId": "829d1792-fe33-47b9-8b10-c9f8769ec022",
        "colab": {
          "base_uri": "https://localhost:8080/",
          "height": 279
        }
      },
      "source": [
        "#Check interquartile distribution and outliers of Bluecars by day\n",
        "bplot=sns.boxplot( x ='Bluecar counter', y= 'day',\n",
        "                 data=df_autolib, \n",
        "                 width=0.5,\n",
        "                 palette=\"colorblind\")\n"
      ],
      "execution_count": 26,
      "outputs": [
        {
          "output_type": "display_data",
          "data": {
            "image/png": "[encoded data removed]",
            "text/plain": [
              "<Figure size 432x288 with 1 Axes>"
            ]
          },
          "metadata": {
            "tags": []
          }
        }
      ]
    },
    {
      "cell_type": "code",
      "metadata": {
        "id": "Aq5JOVuTKhMD",
        "colab_type": "code",
        "outputId": "4bdbde50-43d8-47af-9c6c-a35043cafa28",
        "colab": {
          "base_uri": "https://localhost:8080/",
          "height": 279
        }
      },
      "source": [
        "#Check interquartile distribution and outliers of Bluecars by hour\n",
        "bplot=sns.boxplot( x ='Bluecar counter', y= 'hour',\n",
        "                 data=df_autolib, \n",
        "                 width=0.5,\n",
        "                 palette=\"colorblind\")"
      ],
      "execution_count": 27,
      "outputs": [
        {
          "output_type": "display_data",
          "data": {
            "image/png": "[encoded data removed]",
            "text/plain": [
              "<Figure size 432x288 with 1 Axes>"
            ]
          },
          "metadata": {
            "tags": []
          }
        }
      ]
    },
    {
      "cell_type": "code",
      "metadata": {
        "id": "WxGe447AJGxP",
        "colab_type": "code",
        "outputId": "24dda074-9302-4285-dc11-a6e1aee2c8fa",
        "colab": {
          "base_uri": "https://localhost:8080/",
          "height": 279
        }
      },
      "source": [
        "#Check interquartile distribution and outliers of Slots by days\n",
        "bplot2=sns.boxplot( x ='Slots', y='day',\n",
        "                 data=df_autolib, \n",
        "                 width=0.5,\n",
        "                 palette=\"deep\")\n"
      ],
      "execution_count": 28,
      "outputs": [
        {
          "output_type": "display_data",
          "data": {
            "image/png": "[encoded data removed]",
            "text/plain": [
              "<Figure size 432x288 with 1 Axes>"
            ]
          },
          "metadata": {
            "tags": []
          }
        }
      ]
    },
    {
      "cell_type": "markdown",
      "metadata": {
        "id": "8KBnPVI9cPo-",
        "colab_type": "text"
      },
      "source": [
        "###Observations"
      ]
    },
    {
      "cell_type": "markdown",
      "metadata": {
        "id": "vvJyGaeM7d9X",
        "colab_type": "text"
      },
      "source": [
        "**Observations**\n",
        "1. Correlation: There is a direct correlation between ‘Cars’ and ‘Blue Cars Counter’ column is noted with a value of 1. ‘Cars’ column has similar values as ‘blue car counter’ column hence the correlation.\n",
        "2. 1105 distinct stations noted. One station has no address.\n",
        "3. Data Collection period: Data collected across from 1st to 9th April 2019.\n",
        "4. Data quality issues: There are two columns with missing values i.e ‘displayed comments’ - 4,899  and  ‘Scheduled at’ - 4,965. \n",
        "5. Multiple columns having status of stations i.e status, subscription status and rental status depending on context.\n",
        "Kind and station type columns define the attributes of a station\n",
        "6. No outliers noted.\n",
        "\n",
        "**Recommendations from observations**\n",
        "1. Make cars column to have totals of blue car, utilib and utilib 1.4 cars to remove current redundancy with blue car.\n",
        "2. Derive timestamp from year, month, day, hour, minute column.\n",
        "3. Data set does not have number of cars hired or returned. This will have to be derived.\n",
        "4. ‘Displayed comments’ and  ‘Scheduled at’ columns have significant null values. Scheduled values is validly null since the scheduled dates are only provided for stations with future status. This data set is relevant when exploring future expansion hence will be maintained.\n",
        "'Displayed comments' column is irrelevant when answering research questions hence is recommended that it's dropped.\n",
        "6. Scheduled at is a string with timestamp values. Field data type should be converted to timestamp.\n",
        "\n",
        "\n",
        "\n",
        " "
      ]
    },
    {
      "cell_type": "markdown",
      "metadata": {
        "id": "gqvFruq4cG4k",
        "colab_type": "text"
      },
      "source": [
        "##Data Preparation"
      ]
    },
    {
      "cell_type": "markdown",
      "metadata": {
        "id": "734prKaiOSZg",
        "colab_type": "text"
      },
      "source": [
        "Actions to be done are as per Action items arising from recommendations done during data understanding phase.\n",
        "\n",
        "1. Creation of New Columns\n",
        "\n",
        "a) Timestamp Column"
      ]
    },
    {
      "cell_type": "code",
      "metadata": {
        "id": "o97v87kJBwhv",
        "colab_type": "code",
        "colab": {}
      },
      "source": [
        "#Create a timestamp column\n",
        "df_autolib['Collection Timestamp']=pd.to_datetime(df_autolib[['day','month','year','hour','minute']])"
      ],
      "execution_count": 0,
      "outputs": []
    },
    {
      "cell_type": "code",
      "metadata": {
        "id": "Dhv1Xz4kR2vK",
        "colab_type": "code",
        "outputId": "c150263f-42ba-46fa-c6fb-64f78dece13e",
        "colab": {
          "base_uri": "https://localhost:8080/",
          "height": 298
        }
      },
      "source": [
        "#View top 3 records to confirm timestamp is recorded.\n",
        "df_autolib.head(3)"
      ],
      "execution_count": 30,
      "outputs": [
        {
          "output_type": "execute_result",
          "data": {
            "text/html": [
              "<div>\n",
              "<style scoped>\n",
              "    .dataframe tbody tr th:only-of-type {\n",
              "        vertical-align: middle;\n",
              "    }\n",
              "\n",
              "    .dataframe tbody tr th {\n",
              "        vertical-align: top;\n",
              "    }\n",
              "\n",
              "    .dataframe thead th {\n",
              "        text-align: right;\n",
              "    }\n",
              "</style>\n",
              "<table border=\"1\" class=\"dataframe\">\n",
              "  <thead>\n",
              "    <tr style=\"text-align: right;\">\n",
              "      <th></th>\n",
              "      <th>Address</th>\n",
              "      <th>Cars</th>\n",
              "      <th>Bluecar counter</th>\n",
              "      <th>Utilib counter</th>\n",
              "      <th>Utilib 1.4 counter</th>\n",
              "      <th>Charge Slots</th>\n",
              "      <th>Charging Status</th>\n",
              "      <th>City</th>\n",
              "      <th>Displayed comment</th>\n",
              "      <th>ID</th>\n",
              "      <th>Kind</th>\n",
              "      <th>Geo point</th>\n",
              "      <th>Postal code</th>\n",
              "      <th>Public name</th>\n",
              "      <th>Rental status</th>\n",
              "      <th>Scheduled at</th>\n",
              "      <th>Slots</th>\n",
              "      <th>Station type</th>\n",
              "      <th>Status</th>\n",
              "      <th>Subscription status</th>\n",
              "      <th>year</th>\n",
              "      <th>month</th>\n",
              "      <th>day</th>\n",
              "      <th>hour</th>\n",
              "      <th>minute</th>\n",
              "      <th>Collection Timestamp</th>\n",
              "    </tr>\n",
              "  </thead>\n",
              "  <tbody>\n",
              "    <tr>\n",
              "      <th>0</th>\n",
              "      <td>2 Avenue de Suffren</td>\n",
              "      <td>0</td>\n",
              "      <td>0</td>\n",
              "      <td>0</td>\n",
              "      <td>0</td>\n",
              "      <td>0</td>\n",
              "      <td>nonexistent</td>\n",
              "      <td>Paris</td>\n",
              "      <td>NaN</td>\n",
              "      <td>paris-suffren-2</td>\n",
              "      <td>STATION</td>\n",
              "      <td>48.857, 2.2917</td>\n",
              "      <td>75015</td>\n",
              "      <td>Paris/Suffren/2</td>\n",
              "      <td>operational</td>\n",
              "      <td>NaN</td>\n",
              "      <td>2</td>\n",
              "      <td>station</td>\n",
              "      <td>ok</td>\n",
              "      <td>nonexistent</td>\n",
              "      <td>2018</td>\n",
              "      <td>4</td>\n",
              "      <td>8</td>\n",
              "      <td>11</td>\n",
              "      <td>43</td>\n",
              "      <td>2018-04-08 11:43:00</td>\n",
              "    </tr>\n",
              "    <tr>\n",
              "      <th>1</th>\n",
              "      <td>145 Rue Raymond Losserand</td>\n",
              "      <td>6</td>\n",
              "      <td>6</td>\n",
              "      <td>0</td>\n",
              "      <td>0</td>\n",
              "      <td>0</td>\n",
              "      <td>operational</td>\n",
              "      <td>Paris</td>\n",
              "      <td>NaN</td>\n",
              "      <td>paris-raymondlosserand-145</td>\n",
              "      <td>STATION</td>\n",
              "      <td>48.83126, 2.313088</td>\n",
              "      <td>75014</td>\n",
              "      <td>Paris/Raymond Losserand/145</td>\n",
              "      <td>operational</td>\n",
              "      <td>NaN</td>\n",
              "      <td>0</td>\n",
              "      <td>station</td>\n",
              "      <td>ok</td>\n",
              "      <td>nonexistent</td>\n",
              "      <td>2018</td>\n",
              "      <td>4</td>\n",
              "      <td>6</td>\n",
              "      <td>7</td>\n",
              "      <td>24</td>\n",
              "      <td>2018-04-06 07:24:00</td>\n",
              "    </tr>\n",
              "    <tr>\n",
              "      <th>2</th>\n",
              "      <td>2 Avenue John Fitzgerald Kennedy</td>\n",
              "      <td>3</td>\n",
              "      <td>3</td>\n",
              "      <td>0</td>\n",
              "      <td>2</td>\n",
              "      <td>0</td>\n",
              "      <td>operational</td>\n",
              "      <td>Le Bourget</td>\n",
              "      <td>NaN</td>\n",
              "      <td>lebourget-johnfitzgeraldkennedy-2</td>\n",
              "      <td>STATION</td>\n",
              "      <td>48.938103, 2.4286035</td>\n",
              "      <td>93350</td>\n",
              "      <td>Le Bourget/John Fitzgerald Kennedy/2</td>\n",
              "      <td>operational</td>\n",
              "      <td>NaN</td>\n",
              "      <td>1</td>\n",
              "      <td>station</td>\n",
              "      <td>ok</td>\n",
              "      <td>nonexistent</td>\n",
              "      <td>2018</td>\n",
              "      <td>4</td>\n",
              "      <td>3</td>\n",
              "      <td>20</td>\n",
              "      <td>14</td>\n",
              "      <td>2018-04-03 20:14:00</td>\n",
              "    </tr>\n",
              "  </tbody>\n",
              "</table>\n",
              "</div>"
            ],
            "text/plain": [
              "                            Address  Cars  ...  minute  Collection Timestamp\n",
              "0               2 Avenue de Suffren     0  ...      43   2018-04-08 11:43:00\n",
              "1         145 Rue Raymond Losserand     6  ...      24   2018-04-06 07:24:00\n",
              "2  2 Avenue John Fitzgerald Kennedy     3  ...      14   2018-04-03 20:14:00\n",
              "\n",
              "[3 rows x 26 columns]"
            ]
          },
          "metadata": {
            "tags": []
          },
          "execution_count": 30
        }
      ]
    },
    {
      "cell_type": "markdown",
      "metadata": {
        "id": "22bwMPvuS9GH",
        "colab_type": "text"
      },
      "source": [
        "b) Cars Column"
      ]
    },
    {
      "cell_type": "code",
      "metadata": {
        "id": "UXl2vjm7J8Oz",
        "colab_type": "code",
        "colab": {}
      },
      "source": [
        "#Sum up bluecar , utilib and utilib 1.4 to ensure cars column is correcty summed\n",
        "df_autolib['Cars']=df_autolib['Bluecar counter']+df_autolib['Utilib counter']+ df_autolib['Utilib 1.4 counter']"
      ],
      "execution_count": 0,
      "outputs": []
    },
    {
      "cell_type": "code",
      "metadata": {
        "id": "d96zygU-XvSz",
        "colab_type": "code",
        "outputId": "484014af-8678-4160-b723-f1ef9218c2b9",
        "colab": {
          "base_uri": "https://localhost:8080/",
          "height": 298
        }
      },
      "source": [
        "#View top 3 records to confirm cars column is properly summed up\n",
        "df_autolib.head(3)"
      ],
      "execution_count": 32,
      "outputs": [
        {
          "output_type": "execute_result",
          "data": {
            "text/html": [
              "<div>\n",
              "<style scoped>\n",
              "    .dataframe tbody tr th:only-of-type {\n",
              "        vertical-align: middle;\n",
              "    }\n",
              "\n",
              "    .dataframe tbody tr th {\n",
              "        vertical-align: top;\n",
              "    }\n",
              "\n",
              "    .dataframe thead th {\n",
              "        text-align: right;\n",
              "    }\n",
              "</style>\n",
              "<table border=\"1\" class=\"dataframe\">\n",
              "  <thead>\n",
              "    <tr style=\"text-align: right;\">\n",
              "      <th></th>\n",
              "      <th>Address</th>\n",
              "      <th>Cars</th>\n",
              "      <th>Bluecar counter</th>\n",
              "      <th>Utilib counter</th>\n",
              "      <th>Utilib 1.4 counter</th>\n",
              "      <th>Charge Slots</th>\n",
              "      <th>Charging Status</th>\n",
              "      <th>City</th>\n",
              "      <th>Displayed comment</th>\n",
              "      <th>ID</th>\n",
              "      <th>Kind</th>\n",
              "      <th>Geo point</th>\n",
              "      <th>Postal code</th>\n",
              "      <th>Public name</th>\n",
              "      <th>Rental status</th>\n",
              "      <th>Scheduled at</th>\n",
              "      <th>Slots</th>\n",
              "      <th>Station type</th>\n",
              "      <th>Status</th>\n",
              "      <th>Subscription status</th>\n",
              "      <th>year</th>\n",
              "      <th>month</th>\n",
              "      <th>day</th>\n",
              "      <th>hour</th>\n",
              "      <th>minute</th>\n",
              "      <th>Collection Timestamp</th>\n",
              "    </tr>\n",
              "  </thead>\n",
              "  <tbody>\n",
              "    <tr>\n",
              "      <th>0</th>\n",
              "      <td>2 Avenue de Suffren</td>\n",
              "      <td>0</td>\n",
              "      <td>0</td>\n",
              "      <td>0</td>\n",
              "      <td>0</td>\n",
              "      <td>0</td>\n",
              "      <td>nonexistent</td>\n",
              "      <td>Paris</td>\n",
              "      <td>NaN</td>\n",
              "      <td>paris-suffren-2</td>\n",
              "      <td>STATION</td>\n",
              "      <td>48.857, 2.2917</td>\n",
              "      <td>75015</td>\n",
              "      <td>Paris/Suffren/2</td>\n",
              "      <td>operational</td>\n",
              "      <td>NaN</td>\n",
              "      <td>2</td>\n",
              "      <td>station</td>\n",
              "      <td>ok</td>\n",
              "      <td>nonexistent</td>\n",
              "      <td>2018</td>\n",
              "      <td>4</td>\n",
              "      <td>8</td>\n",
              "      <td>11</td>\n",
              "      <td>43</td>\n",
              "      <td>2018-04-08 11:43:00</td>\n",
              "    </tr>\n",
              "    <tr>\n",
              "      <th>1</th>\n",
              "      <td>145 Rue Raymond Losserand</td>\n",
              "      <td>6</td>\n",
              "      <td>6</td>\n",
              "      <td>0</td>\n",
              "      <td>0</td>\n",
              "      <td>0</td>\n",
              "      <td>operational</td>\n",
              "      <td>Paris</td>\n",
              "      <td>NaN</td>\n",
              "      <td>paris-raymondlosserand-145</td>\n",
              "      <td>STATION</td>\n",
              "      <td>48.83126, 2.313088</td>\n",
              "      <td>75014</td>\n",
              "      <td>Paris/Raymond Losserand/145</td>\n",
              "      <td>operational</td>\n",
              "      <td>NaN</td>\n",
              "      <td>0</td>\n",
              "      <td>station</td>\n",
              "      <td>ok</td>\n",
              "      <td>nonexistent</td>\n",
              "      <td>2018</td>\n",
              "      <td>4</td>\n",
              "      <td>6</td>\n",
              "      <td>7</td>\n",
              "      <td>24</td>\n",
              "      <td>2018-04-06 07:24:00</td>\n",
              "    </tr>\n",
              "    <tr>\n",
              "      <th>2</th>\n",
              "      <td>2 Avenue John Fitzgerald Kennedy</td>\n",
              "      <td>5</td>\n",
              "      <td>3</td>\n",
              "      <td>0</td>\n",
              "      <td>2</td>\n",
              "      <td>0</td>\n",
              "      <td>operational</td>\n",
              "      <td>Le Bourget</td>\n",
              "      <td>NaN</td>\n",
              "      <td>lebourget-johnfitzgeraldkennedy-2</td>\n",
              "      <td>STATION</td>\n",
              "      <td>48.938103, 2.4286035</td>\n",
              "      <td>93350</td>\n",
              "      <td>Le Bourget/John Fitzgerald Kennedy/2</td>\n",
              "      <td>operational</td>\n",
              "      <td>NaN</td>\n",
              "      <td>1</td>\n",
              "      <td>station</td>\n",
              "      <td>ok</td>\n",
              "      <td>nonexistent</td>\n",
              "      <td>2018</td>\n",
              "      <td>4</td>\n",
              "      <td>3</td>\n",
              "      <td>20</td>\n",
              "      <td>14</td>\n",
              "      <td>2018-04-03 20:14:00</td>\n",
              "    </tr>\n",
              "  </tbody>\n",
              "</table>\n",
              "</div>"
            ],
            "text/plain": [
              "                            Address  Cars  ...  minute  Collection Timestamp\n",
              "0               2 Avenue de Suffren     0  ...      43   2018-04-08 11:43:00\n",
              "1         145 Rue Raymond Losserand     6  ...      24   2018-04-06 07:24:00\n",
              "2  2 Avenue John Fitzgerald Kennedy     5  ...      14   2018-04-03 20:14:00\n",
              "\n",
              "[3 rows x 26 columns]"
            ]
          },
          "metadata": {
            "tags": []
          },
          "execution_count": 32
        }
      ]
    },
    {
      "cell_type": "markdown",
      "metadata": {
        "id": "5FV0UB0sYBxn",
        "colab_type": "text"
      },
      "source": [
        "c) Create Hired and Returned Columns for Each Car Type\n",
        "\n",
        "Current records just show the inventory of cars at a point in time. To get the number of cars hired or returned, we need to derive new columns with values derived by difference of cars in a station for each successive minute(s)"
      ]
    },
    {
      "cell_type": "code",
      "metadata": {
        "id": "q9xhjG2cekva",
        "colab_type": "code",
        "colab": {}
      },
      "source": [
        "#Blue Cars Hired or Returned per stationuu\n",
        "df_autolib['BlueCar Diff'] = df_autolib.sort_values(['Collection Timestamp']).groupby(['ID'])['Bluecar counter'].apply(lambda x:  x.shift(1) - x)"
      ],
      "execution_count": 0,
      "outputs": []
    },
    {
      "cell_type": "code",
      "metadata": {
        "id": "czcMB0MbFoyN",
        "colab_type": "code",
        "colab": {}
      },
      "source": [
        "#Utilib Cars Hired or Returned per station\n",
        "df_autolib['Utilib Diff'] = df_autolib.sort_values(['Collection Timestamp']).groupby(['ID'])['Utilib counter'].apply(lambda x:  x.shift(1) - x)"
      ],
      "execution_count": 0,
      "outputs": []
    },
    {
      "cell_type": "code",
      "metadata": {
        "id": "FPI7g22AFpX8",
        "colab_type": "code",
        "colab": {}
      },
      "source": [
        "#Utilib 1.4 Cars Hired or Returned per station\n",
        "df_autolib['Utilib 1.4 Diff'] = df_autolib.sort_values(['Collection Timestamp']).groupby(['ID'])['Utilib 1.4 counter'].apply(lambda x:  x.shift(1) - x)"
      ],
      "execution_count": 0,
      "outputs": []
    },
    {
      "cell_type": "code",
      "metadata": {
        "id": "FJ61CwksRj4S",
        "colab_type": "code",
        "colab": {}
      },
      "source": [
        "#All Cars Hired or Returned\n",
        "df_autolib['All Cars Diff'] = df_autolib.sort_values(['Collection Timestamp']).groupby(['ID'])['Cars'].apply(lambda x:  x.shift(1) - x)"
      ],
      "execution_count": 0,
      "outputs": []
    },
    {
      "cell_type": "code",
      "metadata": {
        "id": "CtOUmGR6ESZi",
        "colab_type": "code",
        "colab": {}
      },
      "source": [
        "#Sort the dataframe by collection timestamp for visibility\n",
        "df_autolib = df_autolib.sort_values('Collection Timestamp',ascending=True)"
      ],
      "execution_count": 0,
      "outputs": []
    },
    {
      "cell_type": "code",
      "metadata": {
        "id": "GjJGkC8VA05N",
        "colab_type": "code",
        "outputId": "c7d53884-bb55-4181-f6af-51e9b05875d7",
        "colab": {
          "base_uri": "https://localhost:8080/",
          "height": 544
        }
      },
      "source": [
        "df_autolib.isnull().sum()"
      ],
      "execution_count": 38,
      "outputs": [
        {
          "output_type": "execute_result",
          "data": {
            "text/plain": [
              "Address                    0\n",
              "Cars                       0\n",
              "Bluecar counter            0\n",
              "Utilib counter             0\n",
              "Utilib 1.4 counter         0\n",
              "Charge Slots               0\n",
              "Charging Status            0\n",
              "City                       0\n",
              "Displayed comment       4889\n",
              "ID                         0\n",
              "Kind                       0\n",
              "Geo point                  0\n",
              "Postal code                0\n",
              "Public name                0\n",
              "Rental status              0\n",
              "Scheduled at            4953\n",
              "Slots                      0\n",
              "Station type               0\n",
              "Status                     0\n",
              "Subscription status        0\n",
              "year                       0\n",
              "month                      0\n",
              "day                        0\n",
              "hour                       0\n",
              "minute                     0\n",
              "Collection Timestamp       0\n",
              "BlueCar Diff            1105\n",
              "Utilib Diff             1105\n",
              "Utilib 1.4 Diff         1105\n",
              "All Cars Diff           1105\n",
              "dtype: int64"
            ]
          },
          "metadata": {
            "tags": []
          },
          "execution_count": 38
        }
      ]
    },
    {
      "cell_type": "markdown",
      "metadata": {
        "id": "6q9S2iwAAGfp",
        "colab_type": "text"
      },
      "source": [
        "2. Fill Null values"
      ]
    },
    {
      "cell_type": "code",
      "metadata": {
        "id": "-dCY0XcK4lvd",
        "colab_type": "code",
        "colab": {}
      },
      "source": [
        " df_autolib.update(df_autolib[['BlueCar Diff','Utilib Diff','Utilib 1.4 Diff','All Cars Diff']].fillna(0))"
      ],
      "execution_count": 0,
      "outputs": []
    },
    {
      "cell_type": "code",
      "metadata": {
        "id": "QEUanXyUg6zV",
        "colab_type": "code",
        "outputId": "1763d749-ce7a-4f1a-a2cc-536e92f94a66",
        "colab": {
          "base_uri": "https://localhost:8080/",
          "height": 595
        }
      },
      "source": [
        "#Display statistics for one station to validate correcteness of output\n",
        "df_autolib[df_autolib['ID']== 'paris-portedechamperret-6']\n",
        "# df_autolib[df_autolib['Rental status'] == 'Future']"
      ],
      "execution_count": 40,
      "outputs": [
        {
          "output_type": "execute_result",
          "data": {
            "text/html": [
              "<div>\n",
              "<style scoped>\n",
              "    .dataframe tbody tr th:only-of-type {\n",
              "        vertical-align: middle;\n",
              "    }\n",
              "\n",
              "    .dataframe tbody tr th {\n",
              "        vertical-align: top;\n",
              "    }\n",
              "\n",
              "    .dataframe thead th {\n",
              "        text-align: right;\n",
              "    }\n",
              "</style>\n",
              "<table border=\"1\" class=\"dataframe\">\n",
              "  <thead>\n",
              "    <tr style=\"text-align: right;\">\n",
              "      <th></th>\n",
              "      <th>Address</th>\n",
              "      <th>Cars</th>\n",
              "      <th>Bluecar counter</th>\n",
              "      <th>Utilib counter</th>\n",
              "      <th>Utilib 1.4 counter</th>\n",
              "      <th>Charge Slots</th>\n",
              "      <th>Charging Status</th>\n",
              "      <th>City</th>\n",
              "      <th>Displayed comment</th>\n",
              "      <th>ID</th>\n",
              "      <th>Kind</th>\n",
              "      <th>Geo point</th>\n",
              "      <th>Postal code</th>\n",
              "      <th>Public name</th>\n",
              "      <th>Rental status</th>\n",
              "      <th>Scheduled at</th>\n",
              "      <th>Slots</th>\n",
              "      <th>Station type</th>\n",
              "      <th>Status</th>\n",
              "      <th>Subscription status</th>\n",
              "      <th>year</th>\n",
              "      <th>month</th>\n",
              "      <th>day</th>\n",
              "      <th>hour</th>\n",
              "      <th>minute</th>\n",
              "      <th>Collection Timestamp</th>\n",
              "      <th>BlueCar Diff</th>\n",
              "      <th>Utilib Diff</th>\n",
              "      <th>Utilib 1.4 Diff</th>\n",
              "      <th>All Cars Diff</th>\n",
              "    </tr>\n",
              "  </thead>\n",
              "  <tbody>\n",
              "    <tr>\n",
              "      <th>1088</th>\n",
              "      <td>6 avenue de la Porte de Champerret</td>\n",
              "      <td>3</td>\n",
              "      <td>3</td>\n",
              "      <td>0</td>\n",
              "      <td>0</td>\n",
              "      <td>0</td>\n",
              "      <td>nonexistent</td>\n",
              "      <td>Paris</td>\n",
              "      <td>NaN</td>\n",
              "      <td>paris-portedechamperret-6</td>\n",
              "      <td>PARKING</td>\n",
              "      <td>48.8862632, 2.2874511</td>\n",
              "      <td>75017</td>\n",
              "      <td>Paris/Porte de Champerret/6</td>\n",
              "      <td>operational</td>\n",
              "      <td>NaN</td>\n",
              "      <td>3</td>\n",
              "      <td>station</td>\n",
              "      <td>ok</td>\n",
              "      <td>nonexistent</td>\n",
              "      <td>2018</td>\n",
              "      <td>4</td>\n",
              "      <td>1</td>\n",
              "      <td>6</td>\n",
              "      <td>25</td>\n",
              "      <td>2018-04-01 06:25:00</td>\n",
              "      <td>0.0</td>\n",
              "      <td>0.0</td>\n",
              "      <td>0.0</td>\n",
              "      <td>0.0</td>\n",
              "    </tr>\n",
              "    <tr>\n",
              "      <th>804</th>\n",
              "      <td>6 avenue de la Porte de Champerret</td>\n",
              "      <td>6</td>\n",
              "      <td>5</td>\n",
              "      <td>1</td>\n",
              "      <td>0</td>\n",
              "      <td>0</td>\n",
              "      <td>nonexistent</td>\n",
              "      <td>Paris</td>\n",
              "      <td>NaN</td>\n",
              "      <td>paris-portedechamperret-6</td>\n",
              "      <td>PARKING</td>\n",
              "      <td>48.8862632, 2.2874511</td>\n",
              "      <td>75017</td>\n",
              "      <td>Paris/Porte de Champerret/6</td>\n",
              "      <td>operational</td>\n",
              "      <td>NaN</td>\n",
              "      <td>0</td>\n",
              "      <td>station</td>\n",
              "      <td>ok</td>\n",
              "      <td>nonexistent</td>\n",
              "      <td>2018</td>\n",
              "      <td>4</td>\n",
              "      <td>5</td>\n",
              "      <td>11</td>\n",
              "      <td>22</td>\n",
              "      <td>2018-04-05 11:22:00</td>\n",
              "      <td>-2.0</td>\n",
              "      <td>-1.0</td>\n",
              "      <td>0.0</td>\n",
              "      <td>-3.0</td>\n",
              "    </tr>\n",
              "    <tr>\n",
              "      <th>12</th>\n",
              "      <td>6 avenue de la Porte de Champerret</td>\n",
              "      <td>6</td>\n",
              "      <td>5</td>\n",
              "      <td>1</td>\n",
              "      <td>0</td>\n",
              "      <td>0</td>\n",
              "      <td>nonexistent</td>\n",
              "      <td>Paris</td>\n",
              "      <td>NaN</td>\n",
              "      <td>paris-portedechamperret-6</td>\n",
              "      <td>PARKING</td>\n",
              "      <td>48.8862632, 2.2874511</td>\n",
              "      <td>75017</td>\n",
              "      <td>Paris/Porte de Champerret/6</td>\n",
              "      <td>operational</td>\n",
              "      <td>NaN</td>\n",
              "      <td>0</td>\n",
              "      <td>station</td>\n",
              "      <td>ok</td>\n",
              "      <td>nonexistent</td>\n",
              "      <td>2018</td>\n",
              "      <td>4</td>\n",
              "      <td>5</td>\n",
              "      <td>12</td>\n",
              "      <td>22</td>\n",
              "      <td>2018-04-05 12:22:00</td>\n",
              "      <td>0.0</td>\n",
              "      <td>0.0</td>\n",
              "      <td>0.0</td>\n",
              "      <td>0.0</td>\n",
              "    </tr>\n",
              "    <tr>\n",
              "      <th>3704</th>\n",
              "      <td>6 avenue de la Porte de Champerret</td>\n",
              "      <td>4</td>\n",
              "      <td>4</td>\n",
              "      <td>0</td>\n",
              "      <td>0</td>\n",
              "      <td>0</td>\n",
              "      <td>nonexistent</td>\n",
              "      <td>Paris</td>\n",
              "      <td>NaN</td>\n",
              "      <td>paris-portedechamperret-6</td>\n",
              "      <td>PARKING</td>\n",
              "      <td>48.8862632, 2.2874511</td>\n",
              "      <td>75017</td>\n",
              "      <td>Paris/Porte de Champerret/6</td>\n",
              "      <td>operational</td>\n",
              "      <td>NaN</td>\n",
              "      <td>2</td>\n",
              "      <td>station</td>\n",
              "      <td>ok</td>\n",
              "      <td>nonexistent</td>\n",
              "      <td>2018</td>\n",
              "      <td>4</td>\n",
              "      <td>7</td>\n",
              "      <td>10</td>\n",
              "      <td>25</td>\n",
              "      <td>2018-04-07 10:25:00</td>\n",
              "      <td>1.0</td>\n",
              "      <td>1.0</td>\n",
              "      <td>0.0</td>\n",
              "      <td>2.0</td>\n",
              "    </tr>\n",
              "    <tr>\n",
              "      <th>3684</th>\n",
              "      <td>6 avenue de la Porte de Champerret</td>\n",
              "      <td>4</td>\n",
              "      <td>4</td>\n",
              "      <td>0</td>\n",
              "      <td>0</td>\n",
              "      <td>0</td>\n",
              "      <td>nonexistent</td>\n",
              "      <td>Paris</td>\n",
              "      <td>NaN</td>\n",
              "      <td>paris-portedechamperret-6</td>\n",
              "      <td>PARKING</td>\n",
              "      <td>48.8862632, 2.2874511</td>\n",
              "      <td>75017</td>\n",
              "      <td>Paris/Porte de Champerret/6</td>\n",
              "      <td>operational</td>\n",
              "      <td>NaN</td>\n",
              "      <td>2</td>\n",
              "      <td>station</td>\n",
              "      <td>ok</td>\n",
              "      <td>nonexistent</td>\n",
              "      <td>2018</td>\n",
              "      <td>4</td>\n",
              "      <td>7</td>\n",
              "      <td>11</td>\n",
              "      <td>2</td>\n",
              "      <td>2018-04-07 11:02:00</td>\n",
              "      <td>0.0</td>\n",
              "      <td>0.0</td>\n",
              "      <td>0.0</td>\n",
              "      <td>0.0</td>\n",
              "    </tr>\n",
              "    <tr>\n",
              "      <th>4</th>\n",
              "      <td>6 avenue de la Porte de Champerret</td>\n",
              "      <td>3</td>\n",
              "      <td>3</td>\n",
              "      <td>0</td>\n",
              "      <td>0</td>\n",
              "      <td>0</td>\n",
              "      <td>nonexistent</td>\n",
              "      <td>Paris</td>\n",
              "      <td>NaN</td>\n",
              "      <td>paris-portedechamperret-6</td>\n",
              "      <td>PARKING</td>\n",
              "      <td>48.8862632, 2.2874511</td>\n",
              "      <td>75017</td>\n",
              "      <td>Paris/Porte de Champerret/6</td>\n",
              "      <td>operational</td>\n",
              "      <td>NaN</td>\n",
              "      <td>3</td>\n",
              "      <td>station</td>\n",
              "      <td>ok</td>\n",
              "      <td>nonexistent</td>\n",
              "      <td>2018</td>\n",
              "      <td>4</td>\n",
              "      <td>8</td>\n",
              "      <td>17</td>\n",
              "      <td>23</td>\n",
              "      <td>2018-04-08 17:23:00</td>\n",
              "      <td>1.0</td>\n",
              "      <td>0.0</td>\n",
              "      <td>0.0</td>\n",
              "      <td>1.0</td>\n",
              "    </tr>\n",
              "  </tbody>\n",
              "</table>\n",
              "</div>"
            ],
            "text/plain": [
              "                                 Address  Cars  ...  Utilib 1.4 Diff  All Cars Diff\n",
              "1088  6 avenue de la Porte de Champerret     3  ...              0.0            0.0\n",
              "804   6 avenue de la Porte de Champerret     6  ...              0.0           -3.0\n",
              "12    6 avenue de la Porte de Champerret     6  ...              0.0            0.0\n",
              "3704  6 avenue de la Porte de Champerret     4  ...              0.0            2.0\n",
              "3684  6 avenue de la Porte de Champerret     4  ...              0.0            0.0\n",
              "4     6 avenue de la Porte de Champerret     3  ...              0.0            1.0\n",
              "\n",
              "[6 rows x 30 columns]"
            ]
          },
          "metadata": {
            "tags": []
          },
          "execution_count": 40
        }
      ]
    },
    {
      "cell_type": "markdown",
      "metadata": {
        "id": "SFQ1FjvQAhgd",
        "colab_type": "text"
      },
      "source": [
        "3. Drop unrequired columns"
      ]
    },
    {
      "cell_type": "code",
      "metadata": {
        "id": "mjNWiwVWBPAs",
        "colab_type": "code",
        "colab": {}
      },
      "source": [
        "# Dropping unrequired columns\n",
        "df_autolib  = df_autolib.drop(['Charge Slots','Displayed comment','Kind','Geo point','Postal code','Rental status','Scheduled at','Slots','Status','Subscription status'], axis =1) "
      ],
      "execution_count": 0,
      "outputs": []
    },
    {
      "cell_type": "code",
      "metadata": {
        "id": "9hZFAJ2iCbHn",
        "colab_type": "code",
        "colab": {
          "base_uri": "https://localhost:8080/",
          "height": 391
        },
        "outputId": "3c508259-0b87-4f58-a464-9af6d1cb123b"
      },
      "source": [
        "\n",
        "#Verify column dropped\n",
        "df_autolib.head()"
      ],
      "execution_count": 43,
      "outputs": [
        {
          "output_type": "execute_result",
          "data": {
            "text/html": [
              "<div>\n",
              "<style scoped>\n",
              "    .dataframe tbody tr th:only-of-type {\n",
              "        vertical-align: middle;\n",
              "    }\n",
              "\n",
              "    .dataframe tbody tr th {\n",
              "        vertical-align: top;\n",
              "    }\n",
              "\n",
              "    .dataframe thead th {\n",
              "        text-align: right;\n",
              "    }\n",
              "</style>\n",
              "<table border=\"1\" class=\"dataframe\">\n",
              "  <thead>\n",
              "    <tr style=\"text-align: right;\">\n",
              "      <th></th>\n",
              "      <th>Address</th>\n",
              "      <th>Cars</th>\n",
              "      <th>Bluecar counter</th>\n",
              "      <th>Utilib counter</th>\n",
              "      <th>Utilib 1.4 counter</th>\n",
              "      <th>Charging Status</th>\n",
              "      <th>City</th>\n",
              "      <th>ID</th>\n",
              "      <th>Public name</th>\n",
              "      <th>Station type</th>\n",
              "      <th>year</th>\n",
              "      <th>month</th>\n",
              "      <th>day</th>\n",
              "      <th>hour</th>\n",
              "      <th>minute</th>\n",
              "      <th>Collection Timestamp</th>\n",
              "      <th>BlueCar Diff</th>\n",
              "      <th>Utilib Diff</th>\n",
              "      <th>Utilib 1.4 Diff</th>\n",
              "      <th>All Cars Diff</th>\n",
              "    </tr>\n",
              "  </thead>\n",
              "  <tbody>\n",
              "    <tr>\n",
              "      <th>1046</th>\n",
              "      <td>112 Rue Monge BÃ¢timent Lieu-dit</td>\n",
              "      <td>0</td>\n",
              "      <td>0</td>\n",
              "      <td>0</td>\n",
              "      <td>0</td>\n",
              "      <td>nonexistent</td>\n",
              "      <td>Paris</td>\n",
              "      <td>paris-monge-112</td>\n",
              "      <td>Paris/Monge/112</td>\n",
              "      <td>station</td>\n",
              "      <td>2018</td>\n",
              "      <td>4</td>\n",
              "      <td>1</td>\n",
              "      <td>0</td>\n",
              "      <td>0</td>\n",
              "      <td>2018-04-01 00:00:00</td>\n",
              "      <td>0.0</td>\n",
              "      <td>0.0</td>\n",
              "      <td>0.0</td>\n",
              "      <td>0.0</td>\n",
              "    </tr>\n",
              "    <tr>\n",
              "      <th>1107</th>\n",
              "      <td>19 place de la Madeleine</td>\n",
              "      <td>0</td>\n",
              "      <td>0</td>\n",
              "      <td>0</td>\n",
              "      <td>0</td>\n",
              "      <td>nonexistent</td>\n",
              "      <td>Paris</td>\n",
              "      <td>paris-madeleinetronchet-parking</td>\n",
              "      <td>Paris/Madeleine Tronchet/Parking</td>\n",
              "      <td>station</td>\n",
              "      <td>2018</td>\n",
              "      <td>4</td>\n",
              "      <td>1</td>\n",
              "      <td>0</td>\n",
              "      <td>2</td>\n",
              "      <td>2018-04-01 00:02:00</td>\n",
              "      <td>0.0</td>\n",
              "      <td>0.0</td>\n",
              "      <td>0.0</td>\n",
              "      <td>0.0</td>\n",
              "    </tr>\n",
              "    <tr>\n",
              "      <th>2874</th>\n",
              "      <td>44 rue SÃ©bastien Mercier</td>\n",
              "      <td>0</td>\n",
              "      <td>0</td>\n",
              "      <td>0</td>\n",
              "      <td>0</td>\n",
              "      <td>nonexistent</td>\n",
              "      <td>Paris</td>\n",
              "      <td>paris-sebastienmercier-44</td>\n",
              "      <td>Paris/SÃ©bastien Mercier/44</td>\n",
              "      <td>station</td>\n",
              "      <td>2018</td>\n",
              "      <td>4</td>\n",
              "      <td>1</td>\n",
              "      <td>0</td>\n",
              "      <td>2</td>\n",
              "      <td>2018-04-01 00:02:00</td>\n",
              "      <td>0.0</td>\n",
              "      <td>0.0</td>\n",
              "      <td>0.0</td>\n",
              "      <td>0.0</td>\n",
              "    </tr>\n",
              "    <tr>\n",
              "      <th>2059</th>\n",
              "      <td>2 Avenue Mozart</td>\n",
              "      <td>1</td>\n",
              "      <td>1</td>\n",
              "      <td>0</td>\n",
              "      <td>0</td>\n",
              "      <td>nonexistent</td>\n",
              "      <td>Paris</td>\n",
              "      <td>paris-mozart-2</td>\n",
              "      <td>Paris/Mozart/2</td>\n",
              "      <td>station</td>\n",
              "      <td>2018</td>\n",
              "      <td>4</td>\n",
              "      <td>1</td>\n",
              "      <td>0</td>\n",
              "      <td>3</td>\n",
              "      <td>2018-04-01 00:03:00</td>\n",
              "      <td>0.0</td>\n",
              "      <td>0.0</td>\n",
              "      <td>0.0</td>\n",
              "      <td>0.0</td>\n",
              "    </tr>\n",
              "    <tr>\n",
              "      <th>4453</th>\n",
              "      <td>2 rue Neuve Saint-Pierre</td>\n",
              "      <td>0</td>\n",
              "      <td>0</td>\n",
              "      <td>0</td>\n",
              "      <td>0</td>\n",
              "      <td>operational</td>\n",
              "      <td>Paris</td>\n",
              "      <td>paris-neuvesaintpierre-2</td>\n",
              "      <td>Paris/Neuve Saint-Pierre/2</td>\n",
              "      <td>station</td>\n",
              "      <td>2018</td>\n",
              "      <td>4</td>\n",
              "      <td>1</td>\n",
              "      <td>0</td>\n",
              "      <td>4</td>\n",
              "      <td>2018-04-01 00:04:00</td>\n",
              "      <td>0.0</td>\n",
              "      <td>0.0</td>\n",
              "      <td>0.0</td>\n",
              "      <td>0.0</td>\n",
              "    </tr>\n",
              "  </tbody>\n",
              "</table>\n",
              "</div>"
            ],
            "text/plain": [
              "                               Address  Cars  ...  Utilib 1.4 Diff  All Cars Diff\n",
              "1046  112 Rue Monge BÃ¢timent Lieu-dit     0  ...              0.0            0.0\n",
              "1107          19 place de la Madeleine     0  ...              0.0            0.0\n",
              "2874         44 rue SÃ©bastien Mercier     0  ...              0.0            0.0\n",
              "2059                   2 Avenue Mozart     1  ...              0.0            0.0\n",
              "4453          2 rue Neuve Saint-Pierre     0  ...              0.0            0.0\n",
              "\n",
              "[5 rows x 20 columns]"
            ]
          },
          "metadata": {
            "tags": []
          },
          "execution_count": 43
        }
      ]
    },
    {
      "cell_type": "markdown",
      "metadata": {
        "id": "yDnnOojKGD8n",
        "colab_type": "text"
      },
      "source": [
        "\n",
        "##Data Preparation Notes\n",
        "Negative means car is being returned\n",
        "\n",
        "Positive means car has  been picked up."
      ]
    },
    {
      "cell_type": "markdown",
      "metadata": {
        "id": "gPJMVhc3PTTa",
        "colab_type": "text"
      },
      "source": [
        "##Data Analysis"
      ]
    },
    {
      "cell_type": "markdown",
      "metadata": {
        "id": "mv7Ih9nsY2yc",
        "colab_type": "text"
      },
      "source": [
        "1. Identify the most popular hour of the day for picking up a shared electric car (Bluecar) in the city of Paris over the month of April 2018\n",
        "\n",
        "\n",
        "\n"
      ]
    },
    {
      "cell_type": "code",
      "metadata": {
        "id": "Ahk2XjpyDCsO",
        "colab_type": "code",
        "outputId": "1034b19b-408f-4aec-ee84-07a00ae9a2b1",
        "colab": {
          "base_uri": "https://localhost:8080/",
          "height": 68
        }
      },
      "source": [
        "#Popular hour for Picking cars\n",
        "print(df_autolib[(df_autolib['City']=='Paris') & (df_autolib['BlueCar Diff'] > 0)].groupby(['hour'])['BlueCar Diff'].sum().sort_values(ascending =False).head(1))\n"
      ],
      "execution_count": 44,
      "outputs": [
        {
          "output_type": "stream",
          "text": [
            "hour\n",
            "21    109.0\n",
            "Name: BlueCar Diff, dtype: float64\n"
          ],
          "name": "stdout"
        }
      ]
    },
    {
      "cell_type": "code",
      "metadata": {
        "id": "d5mT4ZUZ-WSU",
        "colab_type": "code",
        "colab": {
          "base_uri": "https://localhost:8080/",
          "height": 282
        },
        "outputId": "0e0f4d13-4a4e-42c6-dd3b-ede26eeb40b6"
      },
      "source": [
        "#Plot pattern\n",
        "df_autolib[(df_autolib['City']=='Paris') & (df_autolib['BlueCar Diff'] > 0)].groupby(['hour'])['BlueCar Diff'].sum().sort_values(ascending =False).plot.hist()"
      ],
      "execution_count": 46,
      "outputs": [
        {
          "output_type": "execute_result",
          "data": {
            "text/plain": [
              "<matplotlib.axes._subplots.AxesSubplot at 0x7f4a42ab1160>"
            ]
          },
          "metadata": {
            "tags": []
          },
          "execution_count": 46
        },
        {
          "output_type": "display_data",
          "data": {
            "image/png": "[encoded data removed]",
            "text/plain": [
              "<Figure size 432x288 with 1 Axes>"
            ]
          },
          "metadata": {
            "tags": []
          }
        }
      ]
    },
    {
      "cell_type": "markdown",
      "metadata": {
        "id": "9GqWN1-bSXF0",
        "colab_type": "text"
      },
      "source": [
        "The most popular hour for picking blue cars is 21:00 hrs"
      ]
    },
    {
      "cell_type": "code",
      "metadata": {
        "id": "oqoML6WqXLIq",
        "colab_type": "code",
        "colab": {
          "base_uri": "https://localhost:8080/",
          "height": 68
        },
        "outputId": "8a311b95-2a8f-4f1b-a7e7-53f66f4e8e32"
      },
      "source": [
        "# Comparison: Popular hour for Picking Autolib cars\n",
        "print(df_autolib[(df_autolib['City']=='Paris') & (df_autolib['BlueCar Diff'] > 0)].groupby(['hour'])['Utilib Diff'].sum().sort_values(ascending =False).head(1))"
      ],
      "execution_count": 141,
      "outputs": [
        {
          "output_type": "stream",
          "text": [
            "hour\n",
            "23    5.0\n",
            "Name: Utilib Diff, dtype: float64\n"
          ],
          "name": "stdout"
        }
      ]
    },
    {
      "cell_type": "code",
      "metadata": {
        "id": "wdo6SjQ3XY91",
        "colab_type": "code",
        "colab": {
          "base_uri": "https://localhost:8080/",
          "height": 68
        },
        "outputId": "93e7fa04-0876-492c-9194-14333434badc"
      },
      "source": [
        "#Comparison: Popular hour for Picking Autolib 1.4 cars\n",
        "print(df_autolib[(df_autolib['City']=='Paris') & (df_autolib['BlueCar Diff'] > 0)].groupby(['hour'])['Utilib 1.4 Diff'].sum().sort_values(ascending =False).head(1))"
      ],
      "execution_count": 142,
      "outputs": [
        {
          "output_type": "stream",
          "text": [
            "hour\n",
            "11    8.0\n",
            "Name: Utilib 1.4 Diff, dtype: float64\n"
          ],
          "name": "stdout"
        }
      ]
    },
    {
      "cell_type": "markdown",
      "metadata": {
        "id": "f9NnaPNFGCTQ",
        "colab_type": "text"
      },
      "source": [
        ""
      ]
    },
    {
      "cell_type": "markdown",
      "metadata": {
        "id": "k1IRlhlhZTej",
        "colab_type": "text"
      },
      "source": [
        "2. What is the most popular hour for returning cars?"
      ]
    },
    {
      "cell_type": "code",
      "metadata": {
        "id": "_7m-KVY0MiVN",
        "colab_type": "code",
        "outputId": "d030865b-0d49-4da9-a6e2-5763b1e1c20d",
        "colab": {
          "base_uri": "https://localhost:8080/",
          "height": 67
        }
      },
      "source": [
        "#Popular hour for returning carshttps://zindi.africa/competitions/busara-mental-health-prediction-challenge\n",
        "df_autolib[(df_autolib['City']=='Paris') & (df_autolib['BlueCsar Diff'] < 0)].groupby(['hour'])['BlueCar Diff'].sum().sort_values(ascending =True).head(1)"
      ],
      "execution_count": 0,
      "outputs": [
        {
          "output_type": "execute_result",
          "data": {
            "text/plain": [
              "hour\n",
              "12   -104.0\n",
              "Name: BlueCar Diff, dtype: float64"
            ]
          },
          "metadata": {
            "tags": []
          },
          "execution_count": 104
        }
      ]
    },
    {
      "cell_type": "markdown",
      "metadata": {
        "id": "jknnUJQGSkKa",
        "colab_type": "text"
      },
      "source": [
        "Most popular hour for returning cars is 12 noon"
      ]
    },
    {
      "cell_type": "markdown",
      "metadata": {
        "id": "1ATuiARiZiCT",
        "colab_type": "text"
      },
      "source": [
        "3. What station is the overall most popular\n",
        "\n"
      ]
    },
    {
      "cell_type": "code",
      "metadata": {
        "id": "gXfUkIAlSn3j",
        "colab_type": "code",
        "colab": {}
      },
      "source": [
        "df_autolib['All Cars Diff Abs'] = df_autolib['All Cars Diff'].abs()\n",
        "df_autolib['BlueCar Diff Abs'] = df_autolib['BlueCar Diff'].abs()\n",
        "# df_autolib.groupby(['ID'])['BlueCar Diff'].abs().sum().sort_values(ascending =True).head(10)"
      ],
      "execution_count": 0,
      "outputs": []
    },
    {
      "cell_type": "code",
      "metadata": {
        "id": "n1XZ3eQO4a94",
        "colab_type": "code",
        "outputId": "9b451e66-d428-407b-862e-d7744104bd73",
        "colab": {
          "base_uri": "https://localhost:8080/",
          "height": 218
        }
      },
      "source": [
        "df_autolib['All Cars Diff Abs']"
      ],
      "execution_count": 0,
      "outputs": [
        {
          "output_type": "execute_result",
          "data": {
            "text/plain": [
              "1046    0.0\n",
              "1107    0.0\n",
              "2874    0.0\n",
              "2059    0.0\n",
              "4453    0.0\n",
              "       ... \n",
              "2552    2.0\n",
              "2672    1.0\n",
              "4582    2.0\n",
              "4443    0.0\n",
              "3201    0.0\n",
              "Name: All Cars Diff Abs, Length: 5000, dtype: float64"
            ]
          },
          "metadata": {
            "tags": []
          },
          "execution_count": 117
        }
      ]
    },
    {
      "cell_type": "markdown",
      "metadata": {
        "id": "TWqPz1opZkZI",
        "colab_type": "text"
      },
      "source": [
        "4. What station is the most popular at the most popular picking hour?\n"
      ]
    },
    {
      "cell_type": "code",
      "metadata": {
        "id": "TcKSk4nc-YR9",
        "colab_type": "code",
        "outputId": "343d95f8-3d45-41e2-b5fb-6f4f35cc0ae7",
        "colab": {
          "base_uri": "https://localhost:8080/",
          "height": 68
        }
      },
      "source": [
        "# Station that is most popular in picking\n",
        "df_autolib[(df_autolib['hour']==21)].groupby('ID')['BlueCar Diff Abs'].sum().sort_values(ascending=False).head(1)"
      ],
      "execution_count": 139,
      "outputs": [
        {
          "output_type": "execute_result",
          "data": {
            "text/plain": [
              "ID\n",
              "paris-saintmande-94    7.0\n",
              "Name: BlueCar Diff Abs, dtype: float64"
            ]
          },
          "metadata": {
            "tags": []
          },
          "execution_count": 139
        }
      ]
    },
    {
      "cell_type": "markdown",
      "metadata": {
        "id": "k2F3y2qLChjZ",
        "colab_type": "text"
      },
      "source": [
        "##Evaluation"
      ]
    },
    {
      "cell_type": "markdown",
      "metadata": {
        "id": "Ogc8w-rxXlKJ",
        "colab_type": "text"
      },
      "source": [
        "1. Popularity\n",
        "\n",
        "a) The most popular hour for picking blue cars is between 20:00 and 21:00 hrs.\n",
        "\n",
        "b) The most popular hour for picking utilib cars is between 22:00 and 23:00 hrs.\n",
        "\n",
        "c) The most popular hour for picking utilib 1.4 cars is between 10:00 and 11:00 hrs.\n",
        "\n",
        "2. Popular hour for returning cars is 12 noon"
      ]
    },
    {
      "cell_type": "markdown",
      "metadata": {
        "id": "dt1P_iGVQFor",
        "colab_type": "text"
      },
      "source": [
        "##Recommendation"
      ]
    },
    {
      "cell_type": "markdown",
      "metadata": {
        "id": "IjMShOfiFfZn",
        "colab_type": "text"
      },
      "source": [
        "1. The hourly computation of cars picked or returned is not accurate as some hours do not have any datasets. This is in scenarios where there are missing values in the data sample/.\n",
        "More analysis is required with more larger dataset than 5000.\n",
        "\n",
        "2. There are different patterns of vehicle pickup across blue car, utilib and utilib 1.4. Therebeing, different business strategy is preferred for each.\n",
        "\n",
        "3. Review of the business model is desired. During peak hours, cars are shifting from high demand zones to low demand zones. Return rate of the cars to high demand zone is only done in following day hence poor productivity as cars are hired only once at night at high demand stations.\n",
        "Review of the model to consider having drivers return the cars to high demand zones proposed.\n",
        "\n",
        "4. More analysis for stations and productivity of charging stations required"
      ]
    }
  ]
}